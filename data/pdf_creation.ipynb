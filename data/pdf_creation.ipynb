{
 "cells": [
  {
   "cell_type": "code",
   "execution_count": 71,
   "metadata": {},
   "outputs": [],
   "source": [
    "import pymupdf\n",
    "from pathlib import Path"
   ]
  },
  {
   "cell_type": "code",
   "execution_count": 72,
   "metadata": {},
   "outputs": [],
   "source": [
    "PDF_PATH = Path.home() / 'Downloads' / 'Matplotlib.pdf'"
   ]
  },
  {
   "cell_type": "code",
   "execution_count": 73,
   "metadata": {},
   "outputs": [],
   "source": [
    "file = pymupdf.open(PDF_PATH)"
   ]
  },
  {
   "cell_type": "code",
   "execution_count": 74,
   "metadata": {},
   "outputs": [
    {
     "name": "stdout",
     "output_type": "stream",
     "text": [
      "Matplotlib\n",
      "Release 2.0.2\n",
      "John Hunter, Darren Dale, Eric Firing, Michael Droettboom and the m\n",
      "May 10, 2017\n",
      "\n"
     ]
    }
   ],
   "source": [
    "for page in file:\n",
    "    print(page.get_text())\n",
    "    break"
   ]
  },
  {
   "cell_type": "code",
   "execution_count": 75,
   "metadata": {},
   "outputs": [],
   "source": [
    "pdf_new = pymupdf.open()"
   ]
  },
  {
   "cell_type": "code",
   "execution_count": 76,
   "metadata": {},
   "outputs": [],
   "source": [
    "for page in l:\n",
    "    pdf_new.insert_pdf(file, from_page=page, to_page=page)"
   ]
  },
  {
   "cell_type": "code",
   "execution_count": 77,
   "metadata": {},
   "outputs": [],
   "source": [
    "pdf_new.save(Path.home() / 'Downloads' / 'matplotlib_test.pdf')"
   ]
  },
  {
   "cell_type": "code",
   "execution_count": 78,
   "metadata": {},
   "outputs": [],
   "source": [
    "pdftest2 = pymupdf.open()"
   ]
  },
  {
   "cell_type": "code",
   "execution_count": 79,
   "metadata": {},
   "outputs": [],
   "source": [
    "pdftest2.insert_pdf(file, from_page=20, to_page=40)"
   ]
  },
  {
   "cell_type": "code",
   "execution_count": 80,
   "metadata": {},
   "outputs": [],
   "source": [
    "pdftest2.save(Path.home() / 'Downloads' / 'matplotlib_test2.pdf')"
   ]
  },
  {
   "cell_type": "code",
   "execution_count": 81,
   "metadata": {},
   "outputs": [],
   "source": [
    "l = [-1, 29, 7000]"
   ]
  },
  {
   "cell_type": "code",
   "execution_count": 82,
   "metadata": {},
   "outputs": [],
   "source": [
    "pdftest3 = pymupdf.open()"
   ]
  },
  {
   "cell_type": "code",
   "execution_count": 83,
   "metadata": {},
   "outputs": [],
   "source": [
    "for page in l:\n",
    "    pdftest3.insert_pdf(file, from_page=page, to_page=page)"
   ]
  },
  {
   "cell_type": "code",
   "execution_count": 84,
   "metadata": {},
   "outputs": [],
   "source": [
    "pdftest3.save(Path.home() / 'Downloads' / 'matplotlib_test3.pdf')"
   ]
  },
  {
   "cell_type": "code",
   "execution_count": 101,
   "metadata": {},
   "outputs": [],
   "source": [
    "def pdf_creation(input_pdf: Path, output_pdf: Path, pages: (list, int)):\n",
    "    try:\n",
    "        new_pdf = pymupdf.open()\n",
    "        file = pymupdf.open(input_pdf)\n",
    "        for page in pages:\n",
    "            if page > file.page_count or page <= 0:\n",
    "                return 'Invalid page number(s)'\n",
    "            else:\n",
    "                new_pdf.insert_pdf(file, from_page=page, to_page=page)\n",
    "        new_pdf.save(output_pdf)\n",
    "\n",
    "    except FileNotFoundError:\n",
    "        return 'Please enter a valid path'\n",
    "    except TypeError:\n",
    "        if type(pages) != int:\n",
    "            return 'Please enter a valid page number..'\n",
    "        else:\n",
    "            new_pdf.insert_pdf(file, from_page=pages, to_page=pages)\n",
    "            new_pdf.save(output_pdf)"
   ]
  },
  {
   "cell_type": "code",
   "execution_count": 105,
   "metadata": {},
   "outputs": [],
   "source": [
    "pdf_creation(PDF_PATH, Path.home() / 'Downloads' / 'matplotlib_functest.pdf', [1, 2100])"
   ]
  },
  {
   "cell_type": "code",
   "execution_count": null,
   "metadata": {},
   "outputs": [],
   "source": [
    "# make an error handling situation for floats"
   ]
  },
  {
   "cell_type": "code",
   "execution_count": 94,
   "metadata": {},
   "outputs": [
    {
     "data": {
      "text/plain": [
       "int"
      ]
     },
     "execution_count": 94,
     "metadata": {},
     "output_type": "execute_result"
    }
   ],
   "source": [
    "type(60)"
   ]
  },
  {
   "cell_type": "code",
   "execution_count": null,
   "metadata": {},
   "outputs": [],
   "source": []
  }
 ],
 "metadata": {
  "kernelspec": {
   "display_name": "project_chitti",
   "language": "python",
   "name": "python3"
  },
  "language_info": {
   "codemirror_mode": {
    "name": "ipython",
    "version": 3
   },
   "file_extension": ".py",
   "mimetype": "text/x-python",
   "name": "python",
   "nbconvert_exporter": "python",
   "pygments_lexer": "ipython3",
   "version": "3.13.0"
  }
 },
 "nbformat": 4,
 "nbformat_minor": 2
}
