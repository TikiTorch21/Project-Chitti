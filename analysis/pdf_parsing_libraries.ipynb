{
 "cells": [
  {
   "cell_type": "markdown",
   "id": "3712f19c-7f91-49e7-9904-8d99c30662a9",
   "metadata": {},
   "source": [
    "# PDF Parsing Libraries"
   ]
  },
  {
   "cell_type": "code",
   "execution_count": 20,
   "id": "c28c67a9-4941-44d0-b3b5-736ba9a25606",
   "metadata": {},
   "outputs": [
    {
     "ename": "ModuleNotFoundError",
     "evalue": "No module named 'matplotlib'",
     "output_type": "error",
     "traceback": [
      "\u001b[0;31m---------------------------------------------------------------------------\u001b[0m",
      "\u001b[0;31mModuleNotFoundError\u001b[0m                       Traceback (most recent call last)",
      "Cell \u001b[0;32mIn[20], line 12\u001b[0m\n\u001b[1;32m     10\u001b[0m \u001b[38;5;28;01mimport\u001b[39;00m \u001b[38;5;21;01mnumpy\u001b[39;00m \u001b[38;5;28;01mas\u001b[39;00m \u001b[38;5;21;01mnp\u001b[39;00m\n\u001b[1;32m     11\u001b[0m \u001b[38;5;28;01mimport\u001b[39;00m \u001b[38;5;21;01mtime\u001b[39;00m\n\u001b[0;32m---> 12\u001b[0m \u001b[38;5;28;01mimport\u001b[39;00m \u001b[38;5;21;01mmatplotlib\u001b[39;00m\u001b[38;5;21;01m.\u001b[39;00m\u001b[38;5;21;01mpyplot\u001b[39;00m \u001b[38;5;28;01mas\u001b[39;00m \u001b[38;5;21;01mplt\u001b[39;00m\n",
      "\u001b[0;31mModuleNotFoundError\u001b[0m: No module named 'matplotlib'"
     ]
    }
   ],
   "source": [
    "from thefuzz import fuzz\n",
    "from pathlib import Path\n",
    "from pypdf import PdfReader\n",
    "from pdfminer.high_level import extract_text\n",
    "from pdfminer.pdfdocument import PDFDocument\n",
    "from pdfminer.pdfparser import PDFParser\n",
    "from pdfminer.pdftypes import resolve1\n",
    "import pymupdf\n",
    "import pandas as pd\n",
    "import numpy as np\n",
    "import time\n",
    "import matplotlib.pyplot as plt"
   ]
  },
  {
   "cell_type": "code",
   "execution_count": 8,
   "id": "39a82660",
   "metadata": {},
   "outputs": [],
   "source": [
    "PDF_FILES_PATH = Path.cwd() / '../../data/raw/test pdfs'\n",
    "GROUND_TRUTHS = Path.cwd() /  Path.cwd() / '../../data/raw/ground truth'\n",
    "LIBRARY_OUTPUT = Path.cwd() / '../../data/text extractions'\n",
    "MANUAL_PDF = Path.cwd() / '../../data/raw/ground truth'"
   ]
  },
  {
   "cell_type": "markdown",
   "id": "d8672c88",
   "metadata": {},
   "source": [
    "### Functions Testing"
   ]
  },
  {
   "cell_type": "code",
   "execution_count": 3,
   "id": "cbb2fa76",
   "metadata": {},
   "outputs": [],
   "source": [
    "def pypdf_txt_extraction(file_path: Path) -> dict[str, str]:\n",
    "    \"\"\"\n",
    "    Helper function to extract text from a pdf using pypdf page-wise.\n",
    "\n",
    "    Args:\n",
    "        file_path: Path of the pdf file\n",
    "\n",
    "    Returns:\n",
    "        dict: key: page number, value: page text\n",
    "    \"\"\"\n",
    "    pdf_dict = {}\n",
    "    file = PdfReader(file_path)\n",
    "    time_list = []\n",
    "    for page_num in range(len(file.pages)):\n",
    "        key = f'{str(file_path).split('/')[-1]} ~ {page_num}'\n",
    "        start = time.time()\n",
    "        extracted_txt = file.pages[page_num].extract_text()\n",
    "        end = time.time()\n",
    "        pdf_dict[key] = extracted_txt\n",
    "        time_list.append(end-start)\n",
    "    return pdf_dict, time_list"
   ]
  },
  {
   "cell_type": "code",
   "execution_count": 4,
   "id": "09ca7af0",
   "metadata": {},
   "outputs": [],
   "source": [
    "def pymupdf_txt_extraction(file_path: Path) -> dict[str, str]:\n",
    "    \"\"\"\n",
    "    Helper function to extract text from a pdf using pymupdf page-wise.\n",
    "\n",
    "    Args:\n",
    "        file_path: Path of the pdf file\n",
    "\n",
    "    Returns:\n",
    "        dict: key: page number, value: page text\n",
    "    \"\"\"\n",
    "    file = pymupdf.open(file_path)\n",
    "    pdf_dict = {}\n",
    "    time_list = []\n",
    "    for page_num in range(file.page_count):\n",
    "        start = time.time()\n",
    "        text = file[page_num].get_text()\n",
    "        end = time.time()\n",
    "        pdf_dict[f'{str(file_path).split('/')[-1]} ~ {page_num}'] = text\n",
    "        time_list.append(end-start)\n",
    "    return pdf_dict, time_list"
   ]
  },
  {
   "cell_type": "code",
   "execution_count": 5,
   "id": "579ef9c1",
   "metadata": {},
   "outputs": [],
   "source": [
    "def pdfminersix_txt_extraction(file_path: Path) -> dict[str, str]:\n",
    "    \"\"\"\n",
    "    Helper function to extract text from a pdf using pdfminer.six page-wise.\n",
    "\n",
    "    Args:\n",
    "        file_path: Path of the pdf file\n",
    "\n",
    "    Returns:\n",
    "        dict: key: page number, value: page text\n",
    "    \"\"\"\n",
    "    pdf_dict = {}\n",
    "    time_list = []\n",
    "    with open(file_path, 'rb') as f:\n",
    "        parser = PDFParser(f)\n",
    "        doc = PDFDocument(parser)\n",
    "        parser.set_document(doc)\n",
    "        pages = resolve1(doc.catalog['Pages'])\n",
    "        pages_count = pages.get('Count', 0)\n",
    "    for page_num in range(pages_count):\n",
    "        start = time.time()\n",
    "        text = extract_text(file_path, page_numbers=[page_num])\n",
    "        end = time.time()\n",
    "        pdf_dict[f'{str(file_path).split('/')[-1]} ~ {page_num}'] = text\n",
    "        time_list.append(end-start)\n",
    "    return pdf_dict, time_list"
   ]
  },
  {
   "cell_type": "code",
   "execution_count": 6,
   "id": "e82c2f52",
   "metadata": {},
   "outputs": [],
   "source": [
    "pypdf_output = pypdf_txt_extraction(PDF_FILES_PATH / 'chess_pdf.pdf')\n",
    "pymupdf_output = pymupdf_txt_extraction(PDF_FILES_PATH / 'chess_pdf.pdf')\n",
    "pdfminer_output = pdfminersix_txt_extraction(PDF_FILES_PATH / 'chess_pdf.pdf')"
   ]
  },
  {
   "cell_type": "code",
   "execution_count": null,
   "id": "bc86e7fd",
   "metadata": {},
   "outputs": [],
   "source": [
    "def levenshtein_distance(ground_truth: Path, extracted):\n",
    "    # Read the contents of both files\n",
    "    with open(ground_truth) as file:\n",
    "        ground_content = file.read()\n",
    "    # Compute and return the Levenshtein distance\n",
    "    return Levenshtein.distance(ground_content, extracted)"
   ]
  },
  {
   "cell_type": "code",
   "execution_count": null,
   "id": "7e30f440",
   "metadata": {},
   "outputs": [],
   "source": [
    "levenshtein_distance(ground_truth / 'chess_pdf.txt', )"
   ]
  },
  {
   "cell_type": "code",
   "execution_count": 7,
   "id": "1905f180",
   "metadata": {},
   "outputs": [
    {
     "data": {
      "text/html": [
       "<div>\n",
       "<style scoped>\n",
       "    .dataframe tbody tr th:only-of-type {\n",
       "        vertical-align: middle;\n",
       "    }\n",
       "\n",
       "    .dataframe tbody tr th {\n",
       "        vertical-align: top;\n",
       "    }\n",
       "\n",
       "    .dataframe thead th {\n",
       "        text-align: right;\n",
       "    }\n",
       "</style>\n",
       "<table border=\"1\" class=\"dataframe\">\n",
       "  <thead>\n",
       "    <tr style=\"text-align: right;\">\n",
       "      <th></th>\n",
       "      <th>PDF_ID</th>\n",
       "      <th>pypdf_txt</th>\n",
       "      <th>pymupdf_txt</th>\n",
       "      <th>pdfminersix_text</th>\n",
       "      <th>pypdf_time</th>\n",
       "      <th>pymupdf_time</th>\n",
       "      <th>pdfminersix_time</th>\n",
       "    </tr>\n",
       "  </thead>\n",
       "  <tbody>\n",
       "    <tr>\n",
       "      <th>0</th>\n",
       "      <td>chess_pdf.pdf ~ 0</td>\n",
       "      <td>Author: Prateek   \\n \\n  1 \\n \\n \\n       Chec...</td>\n",
       "      <td>Author: Prateek \\n \\n \\n \\n1\\n \\n \\n  Checkmat...</td>\n",
       "      <td>Author: Prateek \\n\\n       Checkmate Through T...</td>\n",
       "      <td>0.061482</td>\n",
       "      <td>0.049782</td>\n",
       "      <td>0.043715</td>\n",
       "    </tr>\n",
       "    <tr>\n",
       "      <th>1</th>\n",
       "      <td>chess_pdf.pdf ~ 1</td>\n",
       "      <td>Author: Prateek   \\n \\n  2 \\n \\nChess, the gam...</td>\n",
       "      <td>Author: Prateek \\n \\n \\n \\n2\\n \\nChess, the ga...</td>\n",
       "      <td>Author: Prateek \\n\\nChess, the game of kings a...</td>\n",
       "      <td>0.010423</td>\n",
       "      <td>0.004764</td>\n",
       "      <td>0.018143</td>\n",
       "    </tr>\n",
       "    <tr>\n",
       "      <th>2</th>\n",
       "      <td>chess_pdf.pdf ~ 2</td>\n",
       "      <td>Author: Prateek   \\n \\n  3 \\n \\nThe Birth of C...</td>\n",
       "      <td>Author: Prateek \\n \\n \\n \\n3\\n \\nThe Birth of ...</td>\n",
       "      <td>Author: Prateek \\n\\nThe Birth of Competitive C...</td>\n",
       "      <td>0.008634</td>\n",
       "      <td>0.002915</td>\n",
       "      <td>0.018321</td>\n",
       "    </tr>\n",
       "  </tbody>\n",
       "</table>\n",
       "</div>"
      ],
      "text/plain": [
       "              PDF_ID                                          pypdf_txt  \\\n",
       "0  chess_pdf.pdf ~ 0  Author: Prateek   \\n \\n  1 \\n \\n \\n       Chec...   \n",
       "1  chess_pdf.pdf ~ 1  Author: Prateek   \\n \\n  2 \\n \\nChess, the gam...   \n",
       "2  chess_pdf.pdf ~ 2  Author: Prateek   \\n \\n  3 \\n \\nThe Birth of C...   \n",
       "\n",
       "                                         pymupdf_txt  \\\n",
       "0  Author: Prateek \\n \\n \\n \\n1\\n \\n \\n  Checkmat...   \n",
       "1  Author: Prateek \\n \\n \\n \\n2\\n \\nChess, the ga...   \n",
       "2  Author: Prateek \\n \\n \\n \\n3\\n \\nThe Birth of ...   \n",
       "\n",
       "                                    pdfminersix_text  pypdf_time  \\\n",
       "0  Author: Prateek \\n\\n       Checkmate Through T...    0.061482   \n",
       "1  Author: Prateek \\n\\nChess, the game of kings a...    0.010423   \n",
       "2  Author: Prateek \\n\\nThe Birth of Competitive C...    0.008634   \n",
       "\n",
       "   pymupdf_time  pdfminersix_time  \n",
       "0      0.049782          0.043715  \n",
       "1      0.004764          0.018143  \n",
       "2      0.002915          0.018321  "
      ]
     },
     "execution_count": 7,
     "metadata": {},
     "output_type": "execute_result"
    }
   ],
   "source": [
    "pdf_df = pd.DataFrame({'PDF_ID': list(pypdf_output[0].keys())})\n",
    "pdf_df['pypdf_txt'] = list((pypdf_output[0]).values())\n",
    "pdf_df['pymupdf_txt'] = list((pymupdf_output[0]).values())\n",
    "pdf_df['pdfminersix_text'] = list((pdfminer_output[0]).values())\n",
    "pdf_df['pypdf_time'] = list(pypdf_output[1])\n",
    "pdf_df['pymupdf_time'] = list(pymupdf_output[1])\n",
    "pdf_df['pdfminersix_time'] = list(pdfminer_output[1])\n",
    "pdf_df"
   ]
  },
  {
   "cell_type": "code",
   "execution_count": 18,
   "id": "dcaa9cac",
   "metadata": {},
   "outputs": [
    {
     "name": "stdout",
     "output_type": "stream",
     "text": [
      "0.02685\n",
      "0.01915\n",
      "0.02673\n"
     ]
    }
   ],
   "source": [
    "print(pdf_df['pypdf_time'].values.mean().round(5))\n",
    "print(pdf_df['pymupdf_time'].values.mean().round(5))\n",
    "print(pdf_df['pdfminersix_time'].values.mean().round(5))"
   ]
  },
  {
   "cell_type": "code",
   "execution_count": 19,
   "id": "a5c56bf7",
   "metadata": {},
   "outputs": [
    {
     "ename": "ImportError",
     "evalue": "matplotlib is required for plotting when the default backend \"matplotlib\" is selected.",
     "output_type": "error",
     "traceback": [
      "\u001b[0;31m---------------------------------------------------------------------------\u001b[0m",
      "\u001b[0;31mImportError\u001b[0m                               Traceback (most recent call last)",
      "Cell \u001b[0;32mIn[19], line 1\u001b[0m\n\u001b[0;32m----> 1\u001b[0m \u001b[43mpdf_df\u001b[49m\u001b[43m[\u001b[49m\u001b[38;5;124;43m'\u001b[39;49m\u001b[38;5;124;43mpypdf_time\u001b[39;49m\u001b[38;5;124;43m'\u001b[39;49m\u001b[43m]\u001b[49m\u001b[38;5;241;43m.\u001b[39;49m\u001b[43mplot\u001b[49m\u001b[43m(\u001b[49m\u001b[43m)\u001b[49m\n",
      "File \u001b[0;32m/opt/anaconda3/envs/project_chitti/lib/python3.13/site-packages/pandas/plotting/_core.py:947\u001b[0m, in \u001b[0;36mPlotAccessor.__call__\u001b[0;34m(self, *args, **kwargs)\u001b[0m\n\u001b[1;32m    946\u001b[0m \u001b[38;5;28;01mdef\u001b[39;00m \u001b[38;5;21m__call__\u001b[39m(\u001b[38;5;28mself\u001b[39m, \u001b[38;5;241m*\u001b[39margs, \u001b[38;5;241m*\u001b[39m\u001b[38;5;241m*\u001b[39mkwargs):\n\u001b[0;32m--> 947\u001b[0m     plot_backend \u001b[38;5;241m=\u001b[39m \u001b[43m_get_plot_backend\u001b[49m\u001b[43m(\u001b[49m\u001b[43mkwargs\u001b[49m\u001b[38;5;241;43m.\u001b[39;49m\u001b[43mpop\u001b[49m\u001b[43m(\u001b[49m\u001b[38;5;124;43m\"\u001b[39;49m\u001b[38;5;124;43mbackend\u001b[39;49m\u001b[38;5;124;43m\"\u001b[39;49m\u001b[43m,\u001b[49m\u001b[43m \u001b[49m\u001b[38;5;28;43;01mNone\u001b[39;49;00m\u001b[43m)\u001b[49m\u001b[43m)\u001b[49m\n\u001b[1;32m    949\u001b[0m     x, y, kind, kwargs \u001b[38;5;241m=\u001b[39m \u001b[38;5;28mself\u001b[39m\u001b[38;5;241m.\u001b[39m_get_call_args(\n\u001b[1;32m    950\u001b[0m         plot_backend\u001b[38;5;241m.\u001b[39m\u001b[38;5;18m__name__\u001b[39m, \u001b[38;5;28mself\u001b[39m\u001b[38;5;241m.\u001b[39m_parent, args, kwargs\n\u001b[1;32m    951\u001b[0m     )\n\u001b[1;32m    953\u001b[0m     kind \u001b[38;5;241m=\u001b[39m \u001b[38;5;28mself\u001b[39m\u001b[38;5;241m.\u001b[39m_kind_aliases\u001b[38;5;241m.\u001b[39mget(kind, kind)\n",
      "File \u001b[0;32m/opt/anaconda3/envs/project_chitti/lib/python3.13/site-packages/pandas/plotting/_core.py:1944\u001b[0m, in \u001b[0;36m_get_plot_backend\u001b[0;34m(backend)\u001b[0m\n\u001b[1;32m   1941\u001b[0m \u001b[38;5;28;01mif\u001b[39;00m backend_str \u001b[38;5;129;01min\u001b[39;00m _backends:\n\u001b[1;32m   1942\u001b[0m     \u001b[38;5;28;01mreturn\u001b[39;00m _backends[backend_str]\n\u001b[0;32m-> 1944\u001b[0m module \u001b[38;5;241m=\u001b[39m \u001b[43m_load_backend\u001b[49m\u001b[43m(\u001b[49m\u001b[43mbackend_str\u001b[49m\u001b[43m)\u001b[49m\n\u001b[1;32m   1945\u001b[0m _backends[backend_str] \u001b[38;5;241m=\u001b[39m module\n\u001b[1;32m   1946\u001b[0m \u001b[38;5;28;01mreturn\u001b[39;00m module\n",
      "File \u001b[0;32m/opt/anaconda3/envs/project_chitti/lib/python3.13/site-packages/pandas/plotting/_core.py:1874\u001b[0m, in \u001b[0;36m_load_backend\u001b[0;34m(backend)\u001b[0m\n\u001b[1;32m   1872\u001b[0m         module \u001b[38;5;241m=\u001b[39m importlib\u001b[38;5;241m.\u001b[39mimport_module(\u001b[38;5;124m\"\u001b[39m\u001b[38;5;124mpandas.plotting._matplotlib\u001b[39m\u001b[38;5;124m\"\u001b[39m)\n\u001b[1;32m   1873\u001b[0m     \u001b[38;5;28;01mexcept\u001b[39;00m \u001b[38;5;167;01mImportError\u001b[39;00m:\n\u001b[0;32m-> 1874\u001b[0m         \u001b[38;5;28;01mraise\u001b[39;00m \u001b[38;5;167;01mImportError\u001b[39;00m(\n\u001b[1;32m   1875\u001b[0m             \u001b[38;5;124m\"\u001b[39m\u001b[38;5;124mmatplotlib is required for plotting when the \u001b[39m\u001b[38;5;124m\"\u001b[39m\n\u001b[1;32m   1876\u001b[0m             \u001b[38;5;124m'\u001b[39m\u001b[38;5;124mdefault backend \u001b[39m\u001b[38;5;124m\"\u001b[39m\u001b[38;5;124mmatplotlib\u001b[39m\u001b[38;5;124m\"\u001b[39m\u001b[38;5;124m is selected.\u001b[39m\u001b[38;5;124m'\u001b[39m\n\u001b[1;32m   1877\u001b[0m         ) \u001b[38;5;28;01mfrom\u001b[39;00m \u001b[38;5;28;01mNone\u001b[39;00m\n\u001b[1;32m   1878\u001b[0m     \u001b[38;5;28;01mreturn\u001b[39;00m module\n\u001b[1;32m   1880\u001b[0m found_backend \u001b[38;5;241m=\u001b[39m \u001b[38;5;28;01mFalse\u001b[39;00m\n",
      "\u001b[0;31mImportError\u001b[0m: matplotlib is required for plotting when the default backend \"matplotlib\" is selected."
     ]
    }
   ],
   "source": [
    "pdf_df['pypdf_time'].plot()"
   ]
  },
  {
   "cell_type": "markdown",
   "id": "a7226fb3",
   "metadata": {},
   "source": [
    "---"
   ]
  }
 ],
 "metadata": {
  "kernelspec": {
   "display_name": "Python 3 (ipykernel)",
   "language": "python",
   "name": "python3"
  },
  "language_info": {
   "codemirror_mode": {
    "name": "ipython",
    "version": 3
   },
   "file_extension": ".py",
   "mimetype": "text/x-python",
   "name": "python",
   "nbconvert_exporter": "python",
   "pygments_lexer": "ipython3",
   "version": "3.13.0"
  }
 },
 "nbformat": 4,
 "nbformat_minor": 5
}
