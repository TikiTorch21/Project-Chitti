{
 "cells": [
  {
   "cell_type": "markdown",
   "id": "3712f19c-7f91-49e7-9904-8d99c30662a9",
   "metadata": {},
   "source": [
    "# PDF Parsing Libraries"
   ]
  },
  {
   "cell_type": "code",
   "execution_count": 3,
   "id": "c28c67a9-4941-44d0-b3b5-736ba9a25606",
   "metadata": {},
   "outputs": [],
   "source": [
    "from thefuzz import fuzz\n",
    "from pathlib import Path\n",
    "from pypdf import PdfReader\n",
    "from pdfminer.high_level import extract_text\n",
    "from pdfminer.pdfdocument import PDFDocument\n",
    "from pdfminer.pdfparser import PDFParser\n",
    "from pdfminer.pdftypes import resolve1\n",
    "import pymupdf\n",
    "import pandas as pd\n",
    "import numpy as np\n",
    "import time\n",
    "import matplotlib.pyplot as plt"
   ]
  },
  {
   "cell_type": "code",
   "execution_count": 70,
   "id": "39a82660",
   "metadata": {},
   "outputs": [],
   "source": [
    "PDF_FILES_PATH = Path.cwd() / '../data/raw/test pdfs'\n",
    "GROUND_TRUTHS = Path.cwd() /  Path.cwd() / '../../data/raw/ground truth'\n",
    "LIBRARY_OUTPUT = Path.cwd() / '../../data/text extractions'\n",
    "MANUAL_PDF = Path.cwd() / '../../data/raw/ground truth'"
   ]
  },
  {
   "cell_type": "markdown",
   "id": "d8672c88",
   "metadata": {},
   "source": [
    "### Functions Testing"
   ]
  },
  {
   "cell_type": "code",
   "execution_count": 23,
   "id": "c1e15726",
   "metadata": {},
   "outputs": [
    {
     "name": "stdout",
     "output_type": "stream",
     "text": [
      "/Users/prateekM/Downloads/Coding/Classes/Projects/Project Chitti/analysis/../data/raw/test pdfs/matplotlib_41-61_pdf.pdf\n",
      "/Users/prateekM/Downloads/Coding/Classes/Projects/Project Chitti/analysis/../data/raw/test pdfs/matplotlib_61-81_pdf.pdf\n",
      "/Users/prateekM/Downloads/Coding/Classes/Projects/Project Chitti/analysis/../data/raw/test pdfs/latex_pdf.pdf\n",
      "/Users/prateekM/Downloads/Coding/Classes/Projects/Project Chitti/analysis/../data/raw/test pdfs/basketball_pdf.pdf\n",
      "/Users/prateekM/Downloads/Coding/Classes/Projects/Project Chitti/analysis/../data/raw/test pdfs/notion_pdf.pdf\n",
      "/Users/prateekM/Downloads/Coding/Classes/Projects/Project Chitti/analysis/../data/raw/test pdfs/matplotlib_1-21_pdf.pdf\n",
      "/Users/prateekM/Downloads/Coding/Classes/Projects/Project Chitti/analysis/../data/raw/test pdfs/chess_pdf.pdf\n",
      "/Users/prateekM/Downloads/Coding/Classes/Projects/Project Chitti/analysis/../data/raw/test pdfs/sleep_pdf.pdf\n",
      "/Users/prateekM/Downloads/Coding/Classes/Projects/Project Chitti/analysis/../data/raw/test pdfs/matplotlib_81-101_pdf.pdf\n",
      "/Users/prateekM/Downloads/Coding/Classes/Projects/Project Chitti/analysis/../data/raw/test pdfs/genai_pdf.pdf\n",
      "/Users/prateekM/Downloads/Coding/Classes/Projects/Project Chitti/analysis/../data/raw/test pdfs/matplotlib_21-41_pdf.pdf\n"
     ]
    }
   ],
   "source": [
    "for file in (Path.cwd() / '../data/raw/test pdfs').glob('*.pdf'):\n",
    "    print(file)"
   ]
  },
  {
   "cell_type": "code",
   "execution_count": 15,
   "id": "5fa20151",
   "metadata": {},
   "outputs": [
    {
     "name": "stdout",
     "output_type": "stream",
     "text": [
      "\u001b[0;31mSignature:\u001b[0m \u001b[0mPath\u001b[0m\u001b[0;34m.\u001b[0m\u001b[0mglob\u001b[0m\u001b[0;34m(\u001b[0m\u001b[0mself\u001b[0m\u001b[0;34m,\u001b[0m \u001b[0mpattern\u001b[0m\u001b[0;34m,\u001b[0m \u001b[0;34m*\u001b[0m\u001b[0;34m,\u001b[0m \u001b[0mcase_sensitive\u001b[0m\u001b[0;34m=\u001b[0m\u001b[0;32mNone\u001b[0m\u001b[0;34m,\u001b[0m \u001b[0mrecurse_symlinks\u001b[0m\u001b[0;34m=\u001b[0m\u001b[0;32mFalse\u001b[0m\u001b[0;34m)\u001b[0m\u001b[0;34m\u001b[0m\u001b[0;34m\u001b[0m\u001b[0m\n",
      "\u001b[0;31mDocstring:\u001b[0m\n",
      "Iterate over this subtree and yield all existing files (of any\n",
      "kind, including directories) matching the given relative pattern.\n",
      "\u001b[0;31mFile:\u001b[0m      /opt/anaconda3/envs/project_chitti/lib/python3.13/pathlib/_local.py\n",
      "\u001b[0;31mType:\u001b[0m      function"
     ]
    }
   ],
   "source": [
    "Path.glob?"
   ]
  },
  {
   "cell_type": "code",
   "execution_count": 72,
   "id": "95499cc0",
   "metadata": {},
   "outputs": [],
   "source": [
    "def pypdf_txt_extraction(file_path: Path) -> dict[str, str]:\n",
    "    \"\"\"\n",
    "    Helper function to extract text from a pdf using pypdf page-wise.\n",
    "\n",
    "    Args:\n",
    "        file_path: Path of the pdf file\n",
    "\n",
    "    Returns:\n",
    "        dict: key: page number, value: page text\n",
    "    \"\"\"\n",
    "    pdf_dict = {}\n",
    "    file = PdfReader(file_path)\n",
    "    time_list = []\n",
    "    for page_num in range(len(file.pages)):\n",
    "        start = time.time()\n",
    "        extracted_txt = file.pages[page_num].extract_text()\n",
    "        end = time.time()\n",
    "        pdf_dict[page_num] = extracted_txt\n",
    "        time_list.append((page_num, end-start))\n",
    "    return pdf_dict, time_list"
   ]
  },
  {
   "cell_type": "code",
   "execution_count": 73,
   "id": "d0c8222a",
   "metadata": {},
   "outputs": [],
   "source": [
    "def extract_from_multiple_pdfs(directory_path: Path):\n",
    "    \"\"\"\n",
    "    Extract text from all PDF files in the specified directory.\n",
    "    \n",
    "    Args:\n",
    "        directory_path: Path of the directory containing PDF files\n",
    "    \n",
    "    Returns:\n",
    "        dict: A dictionary where the key is the PDF filename and the value is a tuple of \n",
    "              (extracted text dictionary, time taken per page list).\n",
    "    \"\"\"\n",
    "    all_results = {}\n",
    "    \n",
    "    # Iterate through all the PDFs in the given directory\n",
    "    for pdf_file in directory_path.glob('*.pdf'):\n",
    "        pdf_dict, time_list = pypdf_txt_extraction(pdf_file)\n",
    "        all_results[pdf_file.name] = (pdf_dict, time_list)\n",
    "    \n",
    "    return all_results\n"
   ]
  },
  {
   "cell_type": "code",
   "execution_count": 74,
   "id": "c2eedfd7",
   "metadata": {},
   "outputs": [
    {
     "ename": "UnboundLocalError",
     "evalue": "cannot access local variable 'v' where it is not associated with a value",
     "output_type": "error",
     "traceback": [
      "\u001b[0;31m---------------------------------------------------------------------------\u001b[0m",
      "\u001b[0;31mUnboundLocalError\u001b[0m                         Traceback (most recent call last)",
      "Cell \u001b[0;32mIn[74], line 3\u001b[0m\n\u001b[1;32m      1\u001b[0m \u001b[38;5;66;03m# Example usage:\u001b[39;00m\n\u001b[1;32m      2\u001b[0m directory_path \u001b[38;5;241m=\u001b[39m Path(PDF_FILES_PATH)\n\u001b[0;32m----> 3\u001b[0m results \u001b[38;5;241m=\u001b[39m \u001b[43mextract_from_multiple_pdfs\u001b[49m\u001b[43m(\u001b[49m\u001b[43mPDF_FILES_PATH\u001b[49m\u001b[43m)\u001b[49m\n",
      "Cell \u001b[0;32mIn[73], line 16\u001b[0m, in \u001b[0;36mextract_from_multiple_pdfs\u001b[0;34m(directory_path)\u001b[0m\n\u001b[1;32m     14\u001b[0m \u001b[38;5;66;03m# Iterate through all the PDFs in the given directory\u001b[39;00m\n\u001b[1;32m     15\u001b[0m \u001b[38;5;28;01mfor\u001b[39;00m pdf_file \u001b[38;5;129;01min\u001b[39;00m directory_path\u001b[38;5;241m.\u001b[39mglob(\u001b[38;5;124m'\u001b[39m\u001b[38;5;124m*.pdf\u001b[39m\u001b[38;5;124m'\u001b[39m):\n\u001b[0;32m---> 16\u001b[0m     pdf_dict, time_list \u001b[38;5;241m=\u001b[39m \u001b[43mpypdf_txt_extraction\u001b[49m\u001b[43m(\u001b[49m\u001b[43mpdf_file\u001b[49m\u001b[43m)\u001b[49m\n\u001b[1;32m     17\u001b[0m     all_results[pdf_file\u001b[38;5;241m.\u001b[39mname] \u001b[38;5;241m=\u001b[39m (pdf_dict, time_list)\n\u001b[1;32m     19\u001b[0m \u001b[38;5;28;01mreturn\u001b[39;00m all_results\n",
      "Cell \u001b[0;32mIn[72], line 16\u001b[0m, in \u001b[0;36mpypdf_txt_extraction\u001b[0;34m(file_path)\u001b[0m\n\u001b[1;32m     14\u001b[0m \u001b[38;5;28;01mfor\u001b[39;00m page_num \u001b[38;5;129;01min\u001b[39;00m \u001b[38;5;28mrange\u001b[39m(\u001b[38;5;28mlen\u001b[39m(file\u001b[38;5;241m.\u001b[39mpages)):\n\u001b[1;32m     15\u001b[0m     start \u001b[38;5;241m=\u001b[39m time\u001b[38;5;241m.\u001b[39mtime()\n\u001b[0;32m---> 16\u001b[0m     extracted_txt \u001b[38;5;241m=\u001b[39m \u001b[43mfile\u001b[49m\u001b[38;5;241;43m.\u001b[39;49m\u001b[43mpages\u001b[49m\u001b[43m[\u001b[49m\u001b[43mpage_num\u001b[49m\u001b[43m]\u001b[49m\u001b[38;5;241;43m.\u001b[39;49m\u001b[43mextract_text\u001b[49m\u001b[43m(\u001b[49m\u001b[43m)\u001b[49m\n\u001b[1;32m     17\u001b[0m     end \u001b[38;5;241m=\u001b[39m time\u001b[38;5;241m.\u001b[39mtime()\n\u001b[1;32m     18\u001b[0m     pdf_dict[page_num] \u001b[38;5;241m=\u001b[39m extracted_txt\n",
      "File \u001b[0;32m/opt/anaconda3/envs/project_chitti/lib/python3.13/site-packages/pypdf/_page.py:2393\u001b[0m, in \u001b[0;36mPageObject.extract_text\u001b[0;34m(self, orientations, space_width, visitor_operand_before, visitor_operand_after, visitor_text, extraction_mode, *args, **kwargs)\u001b[0m\n\u001b[1;32m   2390\u001b[0m \u001b[38;5;28;01mif\u001b[39;00m \u001b[38;5;28misinstance\u001b[39m(orientations, \u001b[38;5;28mint\u001b[39m):\n\u001b[1;32m   2391\u001b[0m     orientations \u001b[38;5;241m=\u001b[39m (orientations,)\n\u001b[0;32m-> 2393\u001b[0m \u001b[38;5;28;01mreturn\u001b[39;00m \u001b[38;5;28;43mself\u001b[39;49m\u001b[38;5;241;43m.\u001b[39;49m\u001b[43m_extract_text\u001b[49m\u001b[43m(\u001b[49m\n\u001b[1;32m   2394\u001b[0m \u001b[43m    \u001b[49m\u001b[38;5;28;43mself\u001b[39;49m\u001b[43m,\u001b[49m\n\u001b[1;32m   2395\u001b[0m \u001b[43m    \u001b[49m\u001b[38;5;28;43mself\u001b[39;49m\u001b[38;5;241;43m.\u001b[39;49m\u001b[43mpdf\u001b[49m\u001b[43m,\u001b[49m\n\u001b[1;32m   2396\u001b[0m \u001b[43m    \u001b[49m\u001b[43morientations\u001b[49m\u001b[43m,\u001b[49m\n\u001b[1;32m   2397\u001b[0m \u001b[43m    \u001b[49m\u001b[43mspace_width\u001b[49m\u001b[43m,\u001b[49m\n\u001b[1;32m   2398\u001b[0m \u001b[43m    \u001b[49m\u001b[43mPG\u001b[49m\u001b[38;5;241;43m.\u001b[39;49m\u001b[43mCONTENTS\u001b[49m\u001b[43m,\u001b[49m\n\u001b[1;32m   2399\u001b[0m \u001b[43m    \u001b[49m\u001b[43mvisitor_operand_before\u001b[49m\u001b[43m,\u001b[49m\n\u001b[1;32m   2400\u001b[0m \u001b[43m    \u001b[49m\u001b[43mvisitor_operand_after\u001b[49m\u001b[43m,\u001b[49m\n\u001b[1;32m   2401\u001b[0m \u001b[43m    \u001b[49m\u001b[43mvisitor_text\u001b[49m\u001b[43m,\u001b[49m\n\u001b[1;32m   2402\u001b[0m \u001b[43m\u001b[49m\u001b[43m)\u001b[49m\n",
      "File \u001b[0;32m/opt/anaconda3/envs/project_chitti/lib/python3.13/site-packages/pypdf/_page.py:1868\u001b[0m, in \u001b[0;36mPageObject._extract_text\u001b[0;34m(self, obj, pdf, orientations, space_width, content_key, visitor_operand_before, visitor_operand_after, visitor_text)\u001b[0m\n\u001b[1;32m   1866\u001b[0m \u001b[38;5;28;01mif\u001b[39;00m \u001b[38;5;124m\"\u001b[39m\u001b[38;5;124m/Font\u001b[39m\u001b[38;5;124m\"\u001b[39m \u001b[38;5;129;01min\u001b[39;00m resources_dict:\n\u001b[1;32m   1867\u001b[0m     \u001b[38;5;28;01mfor\u001b[39;00m f \u001b[38;5;129;01min\u001b[39;00m cast(DictionaryObject, resources_dict[\u001b[38;5;124m\"\u001b[39m\u001b[38;5;124m/Font\u001b[39m\u001b[38;5;124m\"\u001b[39m]):\n\u001b[0;32m-> 1868\u001b[0m         cmaps[f] \u001b[38;5;241m=\u001b[39m \u001b[43mbuild_char_map\u001b[49m\u001b[43m(\u001b[49m\u001b[43mf\u001b[49m\u001b[43m,\u001b[49m\u001b[43m \u001b[49m\u001b[43mspace_width\u001b[49m\u001b[43m,\u001b[49m\u001b[43m \u001b[49m\u001b[43mobj\u001b[49m\u001b[43m)\u001b[49m\n\u001b[1;32m   1869\u001b[0m cmap: Tuple[\n\u001b[1;32m   1870\u001b[0m     Union[\u001b[38;5;28mstr\u001b[39m, Dict[\u001b[38;5;28mint\u001b[39m, \u001b[38;5;28mstr\u001b[39m]], Dict[\u001b[38;5;28mstr\u001b[39m, \u001b[38;5;28mstr\u001b[39m], \u001b[38;5;28mstr\u001b[39m, Optional[DictionaryObject]\n\u001b[1;32m   1871\u001b[0m ] \u001b[38;5;241m=\u001b[39m (\n\u001b[0;32m   (...)\u001b[0m\n\u001b[1;32m   1875\u001b[0m     \u001b[38;5;28;01mNone\u001b[39;00m,\n\u001b[1;32m   1876\u001b[0m )  \u001b[38;5;66;03m# (encoding,CMAP,font resource name,dictionary-object of font)\u001b[39;00m\n\u001b[1;32m   1877\u001b[0m \u001b[38;5;28;01mtry\u001b[39;00m:\n",
      "File \u001b[0;32m/opt/anaconda3/envs/project_chitti/lib/python3.13/site-packages/pypdf/_cmap.py:33\u001b[0m, in \u001b[0;36mbuild_char_map\u001b[0;34m(font_name, space_width, obj)\u001b[0m\n\u001b[1;32m     19\u001b[0m \u001b[38;5;250m\u001b[39m\u001b[38;5;124;03m\"\"\"\u001b[39;00m\n\u001b[1;32m     20\u001b[0m \u001b[38;5;124;03mDetermine information about a font.\u001b[39;00m\n\u001b[1;32m     21\u001b[0m \n\u001b[0;32m   (...)\u001b[0m\n\u001b[1;32m     30\u001b[0m \n\u001b[1;32m     31\u001b[0m \u001b[38;5;124;03m\"\"\"\u001b[39;00m\n\u001b[1;32m     32\u001b[0m ft: DictionaryObject \u001b[38;5;241m=\u001b[39m obj[\u001b[38;5;124m\"\u001b[39m\u001b[38;5;124m/Resources\u001b[39m\u001b[38;5;124m\"\u001b[39m][\u001b[38;5;124m\"\u001b[39m\u001b[38;5;124m/Font\u001b[39m\u001b[38;5;124m\"\u001b[39m][font_name]  \u001b[38;5;66;03m# type: ignore\u001b[39;00m\n\u001b[0;32m---> 33\u001b[0m font_subtype, font_halfspace, font_encoding, font_map \u001b[38;5;241m=\u001b[39m \u001b[43mbuild_char_map_from_dict\u001b[49m\u001b[43m(\u001b[49m\n\u001b[1;32m     34\u001b[0m \u001b[43m    \u001b[49m\u001b[43mspace_width\u001b[49m\u001b[43m,\u001b[49m\u001b[43m \u001b[49m\u001b[43mft\u001b[49m\n\u001b[1;32m     35\u001b[0m \u001b[43m\u001b[49m\u001b[43m)\u001b[49m\n\u001b[1;32m     36\u001b[0m \u001b[38;5;28;01mreturn\u001b[39;00m font_subtype, font_halfspace, font_encoding, font_map, ft\n",
      "File \u001b[0;32m/opt/anaconda3/envs/project_chitti/lib/python3.13/site-packages/pypdf/_cmap.py:56\u001b[0m, in \u001b[0;36mbuild_char_map_from_dict\u001b[0;34m(space_width, ft)\u001b[0m\n\u001b[1;32m     42\u001b[0m \u001b[38;5;250m\u001b[39m\u001b[38;5;124;03m\"\"\"\u001b[39;00m\n\u001b[1;32m     43\u001b[0m \u001b[38;5;124;03mDetermine information about a font.\u001b[39;00m\n\u001b[1;32m     44\u001b[0m \n\u001b[0;32m   (...)\u001b[0m\n\u001b[1;32m     53\u001b[0m \n\u001b[1;32m     54\u001b[0m \u001b[38;5;124;03m\"\"\"\u001b[39;00m\n\u001b[1;32m     55\u001b[0m font_type \u001b[38;5;241m=\u001b[39m cast(\u001b[38;5;28mstr\u001b[39m, ft[\u001b[38;5;124m\"\u001b[39m\u001b[38;5;124m/Subtype\u001b[39m\u001b[38;5;124m\"\u001b[39m]\u001b[38;5;241m.\u001b[39mget_object())\n\u001b[0;32m---> 56\u001b[0m encoding, map_dict \u001b[38;5;241m=\u001b[39m \u001b[43mget_encoding\u001b[49m\u001b[43m(\u001b[49m\u001b[43mft\u001b[49m\u001b[43m)\u001b[49m\n\u001b[1;32m     58\u001b[0m space_key_char \u001b[38;5;241m=\u001b[39m get_actual_str_key(\u001b[38;5;124m\"\u001b[39m\u001b[38;5;124m \u001b[39m\u001b[38;5;124m\"\u001b[39m, encoding, map_dict)\n\u001b[1;32m     59\u001b[0m font_width_map \u001b[38;5;241m=\u001b[39m build_font_width_map(ft, space_width \u001b[38;5;241m*\u001b[39m \u001b[38;5;241m2.0\u001b[39m)\n",
      "File \u001b[0;32m/opt/anaconda3/envs/project_chitti/lib/python3.13/site-packages/pypdf/_cmap.py:129\u001b[0m, in \u001b[0;36mget_encoding\u001b[0;34m(ft)\u001b[0m\n\u001b[1;32m    125\u001b[0m \u001b[38;5;28;01mdef\u001b[39;00m \u001b[38;5;21mget_encoding\u001b[39m(\n\u001b[1;32m    126\u001b[0m     ft: DictionaryObject\n\u001b[1;32m    127\u001b[0m ) \u001b[38;5;241m-\u001b[39m\u001b[38;5;241m>\u001b[39m Tuple[Union[\u001b[38;5;28mstr\u001b[39m, Dict[\u001b[38;5;28mint\u001b[39m, \u001b[38;5;28mstr\u001b[39m]], Dict[Any, Any]]:\n\u001b[1;32m    128\u001b[0m     encoding \u001b[38;5;241m=\u001b[39m _parse_encoding(ft)\n\u001b[0;32m--> 129\u001b[0m     map_dict, int_entry \u001b[38;5;241m=\u001b[39m \u001b[43m_parse_to_unicode\u001b[49m\u001b[43m(\u001b[49m\u001b[43mft\u001b[49m\u001b[43m)\u001b[49m\n\u001b[1;32m    131\u001b[0m     \u001b[38;5;66;03m# Apply rule from PDF ref 1.7 §5.9.1, 1st bullet:\u001b[39;00m\n\u001b[1;32m    132\u001b[0m     \u001b[38;5;66;03m#   if cmap not empty encoding should be discarded\u001b[39;00m\n\u001b[1;32m    133\u001b[0m     \u001b[38;5;66;03m#   (here transformed into identity for those characters)\u001b[39;00m\n\u001b[1;32m    134\u001b[0m     \u001b[38;5;66;03m# If encoding is a string it is expected to be an identity translation.\u001b[39;00m\n\u001b[1;32m    135\u001b[0m     \u001b[38;5;28;01mif\u001b[39;00m \u001b[38;5;28misinstance\u001b[39m(encoding, \u001b[38;5;28mdict\u001b[39m):\n",
      "File \u001b[0;32m/opt/anaconda3/envs/project_chitti/lib/python3.13/site-packages/pypdf/_cmap.py:212\u001b[0m, in \u001b[0;36m_parse_to_unicode\u001b[0;34m(ft)\u001b[0m\n\u001b[1;32m    210\u001b[0m \u001b[38;5;28;01mif\u001b[39;00m \u001b[38;5;124m\"\u001b[39m\u001b[38;5;124m/ToUnicode\u001b[39m\u001b[38;5;124m\"\u001b[39m \u001b[38;5;129;01mnot\u001b[39;00m \u001b[38;5;129;01min\u001b[39;00m ft:\n\u001b[1;32m    211\u001b[0m     \u001b[38;5;28;01mif\u001b[39;00m ft\u001b[38;5;241m.\u001b[39mget(\u001b[38;5;124m\"\u001b[39m\u001b[38;5;124m/Subtype\u001b[39m\u001b[38;5;124m\"\u001b[39m, \u001b[38;5;124m\"\u001b[39m\u001b[38;5;124m\"\u001b[39m) \u001b[38;5;241m==\u001b[39m \u001b[38;5;124m\"\u001b[39m\u001b[38;5;124m/Type1\u001b[39m\u001b[38;5;124m\"\u001b[39m:\n\u001b[0;32m--> 212\u001b[0m         \u001b[38;5;28;01mreturn\u001b[39;00m \u001b[43m_type1_alternative\u001b[49m\u001b[43m(\u001b[49m\u001b[43mft\u001b[49m\u001b[43m,\u001b[49m\u001b[43m \u001b[49m\u001b[43mmap_dict\u001b[49m\u001b[43m,\u001b[49m\u001b[43m \u001b[49m\u001b[43mint_entry\u001b[49m\u001b[43m)\u001b[49m\n\u001b[1;32m    213\u001b[0m     \u001b[38;5;28;01melse\u001b[39;00m:\n\u001b[1;32m    214\u001b[0m         \u001b[38;5;28;01mreturn\u001b[39;00m {}, []\n",
      "File \u001b[0;32m/opt/anaconda3/envs/project_chitti/lib/python3.13/site-packages/pypdf/_cmap.py:530\u001b[0m, in \u001b[0;36m_type1_alternative\u001b[0;34m(ft, map_dict, int_entry)\u001b[0m\n\u001b[1;32m    528\u001b[0m                 \u001b[38;5;28;01mexcept\u001b[39;00m \u001b[38;5;167;01mValueError\u001b[39;00m:  \u001b[38;5;66;03m# pragma: no cover\u001b[39;00m\n\u001b[1;32m    529\u001b[0m                     \u001b[38;5;28;01mcontinue\u001b[39;00m\n\u001b[0;32m--> 530\u001b[0m         map_dict[\u001b[38;5;28mchr\u001b[39m(i)] \u001b[38;5;241m=\u001b[39m \u001b[43mv\u001b[49m\n\u001b[1;32m    531\u001b[0m         int_entry\u001b[38;5;241m.\u001b[39mappend(i)\n\u001b[1;32m    532\u001b[0m \u001b[38;5;28;01mreturn\u001b[39;00m map_dict, int_entry\n",
      "\u001b[0;31mUnboundLocalError\u001b[0m: cannot access local variable 'v' where it is not associated with a value"
     ]
    }
   ],
   "source": [
    "# Example usage:\n",
    "directory_path = Path(PDF_FILES_PATH)\n",
    "results = extract_from_multiple_pdfs(PDF_FILES_PATH)"
   ]
  },
  {
   "cell_type": "code",
   "execution_count": 69,
   "id": "dc4b5eca",
   "metadata": {},
   "outputs": [
    {
     "data": {
      "text/plain": [
       "PosixPath('/Users/prateekM/Downloads/Coding/Classes/Projects/Project Chitti/analysis/../../data/raw/test pdfs')"
      ]
     },
     "execution_count": 69,
     "metadata": {},
     "output_type": "execute_result"
    }
   ],
   "source": [
    "PDF_FILES_PATH"
   ]
  },
  {
   "cell_type": "code",
   "execution_count": 68,
   "id": "94420ce8",
   "metadata": {},
   "outputs": [
    {
     "data": {
      "text/plain": [
       "{}"
      ]
     },
     "execution_count": 68,
     "metadata": {},
     "output_type": "execute_result"
    }
   ],
   "source": [
    "results"
   ]
  },
  {
   "cell_type": "code",
   "execution_count": 62,
   "id": "608b3d5b",
   "metadata": {},
   "outputs": [],
   "source": [
    "def extract_text_from_multiple_pdfs(func: callable, file_paths: list[Path]) -> dict[str, dict[str, str]]:\n",
    "    \"\"\"\n",
    "    Extract text from multiple PDF files using pypdf_txt_extraction.\n",
    "\n",
    "    Args:\n",
    "        func: pypdf_txt_extraction function\n",
    "        file_paths: List of paths to PDF files\n",
    "\n",
    "    Returns:\n",
    "        dict: key: file name, value: dict of page numbers and extracted text\n",
    "    \"\"\"\n",
    "    results = {}\n",
    "    for file_path in file_paths:\n",
    "        file_name = file_path.name\n",
    "        pdf_dict, time_list = func(file_path)\n",
    "        results[file_name] = {'pdf_dict': pdf_dict, 'time_list': time_list}\n",
    "    return results"
   ]
  },
  {
   "cell_type": "code",
   "execution_count": 64,
   "id": "b3e84c0b",
   "metadata": {},
   "outputs": [
    {
     "ename": "UnboundLocalError",
     "evalue": "cannot access local variable 'v' where it is not associated with a value",
     "output_type": "error",
     "traceback": [
      "\u001b[0;31m---------------------------------------------------------------------------\u001b[0m",
      "\u001b[0;31mUnboundLocalError\u001b[0m                         Traceback (most recent call last)",
      "Cell \u001b[0;32mIn[64], line 2\u001b[0m\n\u001b[1;32m      1\u001b[0m file_paths \u001b[38;5;241m=\u001b[39m \u001b[38;5;28mlist\u001b[39m((Path\u001b[38;5;241m.\u001b[39mcwd() \u001b[38;5;241m/\u001b[39m \u001b[38;5;124m'\u001b[39m\u001b[38;5;124m../data/raw/test pdfs\u001b[39m\u001b[38;5;124m'\u001b[39m)\u001b[38;5;241m.\u001b[39mglob(\u001b[38;5;124m'\u001b[39m\u001b[38;5;124m*.pdf\u001b[39m\u001b[38;5;124m'\u001b[39m))\n\u001b[0;32m----> 2\u001b[0m results \u001b[38;5;241m=\u001b[39m \u001b[43mextract_text_from_multiple_pdfs\u001b[49m\u001b[43m(\u001b[49m\u001b[43mpypdf_txt_extraction\u001b[49m\u001b[43m,\u001b[49m\u001b[43m \u001b[49m\u001b[43mfile_paths\u001b[49m\u001b[43m)\u001b[49m\n\u001b[1;32m      3\u001b[0m \u001b[38;5;28mprint\u001b[39m(results)\n",
      "Cell \u001b[0;32mIn[62], line 15\u001b[0m, in \u001b[0;36mextract_text_from_multiple_pdfs\u001b[0;34m(func, file_paths)\u001b[0m\n\u001b[1;32m     13\u001b[0m \u001b[38;5;28;01mfor\u001b[39;00m file_path \u001b[38;5;129;01min\u001b[39;00m file_paths:\n\u001b[1;32m     14\u001b[0m     file_name \u001b[38;5;241m=\u001b[39m file_path\u001b[38;5;241m.\u001b[39mname\n\u001b[0;32m---> 15\u001b[0m     pdf_dict, time_list \u001b[38;5;241m=\u001b[39m \u001b[43mfunc\u001b[49m\u001b[43m(\u001b[49m\u001b[43mfile_path\u001b[49m\u001b[43m)\u001b[49m\n\u001b[1;32m     16\u001b[0m     results[file_name] \u001b[38;5;241m=\u001b[39m {\u001b[38;5;124m'\u001b[39m\u001b[38;5;124mpdf_dict\u001b[39m\u001b[38;5;124m'\u001b[39m: pdf_dict, \u001b[38;5;124m'\u001b[39m\u001b[38;5;124mtime_list\u001b[39m\u001b[38;5;124m'\u001b[39m: time_list}\n\u001b[1;32m     17\u001b[0m \u001b[38;5;28;01mreturn\u001b[39;00m results\n",
      "Cell \u001b[0;32mIn[36], line 18\u001b[0m, in \u001b[0;36mpypdf_txt_extraction\u001b[0;34m(file_path)\u001b[0m\n\u001b[1;32m     16\u001b[0m \u001b[38;5;28;01mfor\u001b[39;00m page_num \u001b[38;5;129;01min\u001b[39;00m \u001b[38;5;28mrange\u001b[39m(\u001b[38;5;28mlen\u001b[39m(file\u001b[38;5;241m.\u001b[39mpages)):\n\u001b[1;32m     17\u001b[0m     start \u001b[38;5;241m=\u001b[39m time\u001b[38;5;241m.\u001b[39mtime()\n\u001b[0;32m---> 18\u001b[0m     extracted_txt \u001b[38;5;241m=\u001b[39m \u001b[43mfile\u001b[49m\u001b[38;5;241;43m.\u001b[39;49m\u001b[43mpages\u001b[49m\u001b[43m[\u001b[49m\u001b[43mpage_num\u001b[49m\u001b[43m]\u001b[49m\u001b[38;5;241;43m.\u001b[39;49m\u001b[43mextract_text\u001b[49m\u001b[43m(\u001b[49m\u001b[43m)\u001b[49m\n\u001b[1;32m     19\u001b[0m     end \u001b[38;5;241m=\u001b[39m time\u001b[38;5;241m.\u001b[39mtime()\n\u001b[1;32m     20\u001b[0m     extracted_list\u001b[38;5;241m.\u001b[39mappend(extracted_txt)\n",
      "File \u001b[0;32m/opt/anaconda3/envs/project_chitti/lib/python3.13/site-packages/pypdf/_page.py:2393\u001b[0m, in \u001b[0;36mPageObject.extract_text\u001b[0;34m(self, orientations, space_width, visitor_operand_before, visitor_operand_after, visitor_text, extraction_mode, *args, **kwargs)\u001b[0m\n\u001b[1;32m   2390\u001b[0m \u001b[38;5;28;01mif\u001b[39;00m \u001b[38;5;28misinstance\u001b[39m(orientations, \u001b[38;5;28mint\u001b[39m):\n\u001b[1;32m   2391\u001b[0m     orientations \u001b[38;5;241m=\u001b[39m (orientations,)\n\u001b[0;32m-> 2393\u001b[0m \u001b[38;5;28;01mreturn\u001b[39;00m \u001b[38;5;28;43mself\u001b[39;49m\u001b[38;5;241;43m.\u001b[39;49m\u001b[43m_extract_text\u001b[49m\u001b[43m(\u001b[49m\n\u001b[1;32m   2394\u001b[0m \u001b[43m    \u001b[49m\u001b[38;5;28;43mself\u001b[39;49m\u001b[43m,\u001b[49m\n\u001b[1;32m   2395\u001b[0m \u001b[43m    \u001b[49m\u001b[38;5;28;43mself\u001b[39;49m\u001b[38;5;241;43m.\u001b[39;49m\u001b[43mpdf\u001b[49m\u001b[43m,\u001b[49m\n\u001b[1;32m   2396\u001b[0m \u001b[43m    \u001b[49m\u001b[43morientations\u001b[49m\u001b[43m,\u001b[49m\n\u001b[1;32m   2397\u001b[0m \u001b[43m    \u001b[49m\u001b[43mspace_width\u001b[49m\u001b[43m,\u001b[49m\n\u001b[1;32m   2398\u001b[0m \u001b[43m    \u001b[49m\u001b[43mPG\u001b[49m\u001b[38;5;241;43m.\u001b[39;49m\u001b[43mCONTENTS\u001b[49m\u001b[43m,\u001b[49m\n\u001b[1;32m   2399\u001b[0m \u001b[43m    \u001b[49m\u001b[43mvisitor_operand_before\u001b[49m\u001b[43m,\u001b[49m\n\u001b[1;32m   2400\u001b[0m \u001b[43m    \u001b[49m\u001b[43mvisitor_operand_after\u001b[49m\u001b[43m,\u001b[49m\n\u001b[1;32m   2401\u001b[0m \u001b[43m    \u001b[49m\u001b[43mvisitor_text\u001b[49m\u001b[43m,\u001b[49m\n\u001b[1;32m   2402\u001b[0m \u001b[43m\u001b[49m\u001b[43m)\u001b[49m\n",
      "File \u001b[0;32m/opt/anaconda3/envs/project_chitti/lib/python3.13/site-packages/pypdf/_page.py:1868\u001b[0m, in \u001b[0;36mPageObject._extract_text\u001b[0;34m(self, obj, pdf, orientations, space_width, content_key, visitor_operand_before, visitor_operand_after, visitor_text)\u001b[0m\n\u001b[1;32m   1866\u001b[0m \u001b[38;5;28;01mif\u001b[39;00m \u001b[38;5;124m\"\u001b[39m\u001b[38;5;124m/Font\u001b[39m\u001b[38;5;124m\"\u001b[39m \u001b[38;5;129;01min\u001b[39;00m resources_dict:\n\u001b[1;32m   1867\u001b[0m     \u001b[38;5;28;01mfor\u001b[39;00m f \u001b[38;5;129;01min\u001b[39;00m cast(DictionaryObject, resources_dict[\u001b[38;5;124m\"\u001b[39m\u001b[38;5;124m/Font\u001b[39m\u001b[38;5;124m\"\u001b[39m]):\n\u001b[0;32m-> 1868\u001b[0m         cmaps[f] \u001b[38;5;241m=\u001b[39m \u001b[43mbuild_char_map\u001b[49m\u001b[43m(\u001b[49m\u001b[43mf\u001b[49m\u001b[43m,\u001b[49m\u001b[43m \u001b[49m\u001b[43mspace_width\u001b[49m\u001b[43m,\u001b[49m\u001b[43m \u001b[49m\u001b[43mobj\u001b[49m\u001b[43m)\u001b[49m\n\u001b[1;32m   1869\u001b[0m cmap: Tuple[\n\u001b[1;32m   1870\u001b[0m     Union[\u001b[38;5;28mstr\u001b[39m, Dict[\u001b[38;5;28mint\u001b[39m, \u001b[38;5;28mstr\u001b[39m]], Dict[\u001b[38;5;28mstr\u001b[39m, \u001b[38;5;28mstr\u001b[39m], \u001b[38;5;28mstr\u001b[39m, Optional[DictionaryObject]\n\u001b[1;32m   1871\u001b[0m ] \u001b[38;5;241m=\u001b[39m (\n\u001b[0;32m   (...)\u001b[0m\n\u001b[1;32m   1875\u001b[0m     \u001b[38;5;28;01mNone\u001b[39;00m,\n\u001b[1;32m   1876\u001b[0m )  \u001b[38;5;66;03m# (encoding,CMAP,font resource name,dictionary-object of font)\u001b[39;00m\n\u001b[1;32m   1877\u001b[0m \u001b[38;5;28;01mtry\u001b[39;00m:\n",
      "File \u001b[0;32m/opt/anaconda3/envs/project_chitti/lib/python3.13/site-packages/pypdf/_cmap.py:33\u001b[0m, in \u001b[0;36mbuild_char_map\u001b[0;34m(font_name, space_width, obj)\u001b[0m\n\u001b[1;32m     19\u001b[0m \u001b[38;5;250m\u001b[39m\u001b[38;5;124;03m\"\"\"\u001b[39;00m\n\u001b[1;32m     20\u001b[0m \u001b[38;5;124;03mDetermine information about a font.\u001b[39;00m\n\u001b[1;32m     21\u001b[0m \n\u001b[0;32m   (...)\u001b[0m\n\u001b[1;32m     30\u001b[0m \n\u001b[1;32m     31\u001b[0m \u001b[38;5;124;03m\"\"\"\u001b[39;00m\n\u001b[1;32m     32\u001b[0m ft: DictionaryObject \u001b[38;5;241m=\u001b[39m obj[\u001b[38;5;124m\"\u001b[39m\u001b[38;5;124m/Resources\u001b[39m\u001b[38;5;124m\"\u001b[39m][\u001b[38;5;124m\"\u001b[39m\u001b[38;5;124m/Font\u001b[39m\u001b[38;5;124m\"\u001b[39m][font_name]  \u001b[38;5;66;03m# type: ignore\u001b[39;00m\n\u001b[0;32m---> 33\u001b[0m font_subtype, font_halfspace, font_encoding, font_map \u001b[38;5;241m=\u001b[39m \u001b[43mbuild_char_map_from_dict\u001b[49m\u001b[43m(\u001b[49m\n\u001b[1;32m     34\u001b[0m \u001b[43m    \u001b[49m\u001b[43mspace_width\u001b[49m\u001b[43m,\u001b[49m\u001b[43m \u001b[49m\u001b[43mft\u001b[49m\n\u001b[1;32m     35\u001b[0m \u001b[43m\u001b[49m\u001b[43m)\u001b[49m\n\u001b[1;32m     36\u001b[0m \u001b[38;5;28;01mreturn\u001b[39;00m font_subtype, font_halfspace, font_encoding, font_map, ft\n",
      "File \u001b[0;32m/opt/anaconda3/envs/project_chitti/lib/python3.13/site-packages/pypdf/_cmap.py:56\u001b[0m, in \u001b[0;36mbuild_char_map_from_dict\u001b[0;34m(space_width, ft)\u001b[0m\n\u001b[1;32m     42\u001b[0m \u001b[38;5;250m\u001b[39m\u001b[38;5;124;03m\"\"\"\u001b[39;00m\n\u001b[1;32m     43\u001b[0m \u001b[38;5;124;03mDetermine information about a font.\u001b[39;00m\n\u001b[1;32m     44\u001b[0m \n\u001b[0;32m   (...)\u001b[0m\n\u001b[1;32m     53\u001b[0m \n\u001b[1;32m     54\u001b[0m \u001b[38;5;124;03m\"\"\"\u001b[39;00m\n\u001b[1;32m     55\u001b[0m font_type \u001b[38;5;241m=\u001b[39m cast(\u001b[38;5;28mstr\u001b[39m, ft[\u001b[38;5;124m\"\u001b[39m\u001b[38;5;124m/Subtype\u001b[39m\u001b[38;5;124m\"\u001b[39m]\u001b[38;5;241m.\u001b[39mget_object())\n\u001b[0;32m---> 56\u001b[0m encoding, map_dict \u001b[38;5;241m=\u001b[39m \u001b[43mget_encoding\u001b[49m\u001b[43m(\u001b[49m\u001b[43mft\u001b[49m\u001b[43m)\u001b[49m\n\u001b[1;32m     58\u001b[0m space_key_char \u001b[38;5;241m=\u001b[39m get_actual_str_key(\u001b[38;5;124m\"\u001b[39m\u001b[38;5;124m \u001b[39m\u001b[38;5;124m\"\u001b[39m, encoding, map_dict)\n\u001b[1;32m     59\u001b[0m font_width_map \u001b[38;5;241m=\u001b[39m build_font_width_map(ft, space_width \u001b[38;5;241m*\u001b[39m \u001b[38;5;241m2.0\u001b[39m)\n",
      "File \u001b[0;32m/opt/anaconda3/envs/project_chitti/lib/python3.13/site-packages/pypdf/_cmap.py:129\u001b[0m, in \u001b[0;36mget_encoding\u001b[0;34m(ft)\u001b[0m\n\u001b[1;32m    125\u001b[0m \u001b[38;5;28;01mdef\u001b[39;00m \u001b[38;5;21mget_encoding\u001b[39m(\n\u001b[1;32m    126\u001b[0m     ft: DictionaryObject\n\u001b[1;32m    127\u001b[0m ) \u001b[38;5;241m-\u001b[39m\u001b[38;5;241m>\u001b[39m Tuple[Union[\u001b[38;5;28mstr\u001b[39m, Dict[\u001b[38;5;28mint\u001b[39m, \u001b[38;5;28mstr\u001b[39m]], Dict[Any, Any]]:\n\u001b[1;32m    128\u001b[0m     encoding \u001b[38;5;241m=\u001b[39m _parse_encoding(ft)\n\u001b[0;32m--> 129\u001b[0m     map_dict, int_entry \u001b[38;5;241m=\u001b[39m \u001b[43m_parse_to_unicode\u001b[49m\u001b[43m(\u001b[49m\u001b[43mft\u001b[49m\u001b[43m)\u001b[49m\n\u001b[1;32m    131\u001b[0m     \u001b[38;5;66;03m# Apply rule from PDF ref 1.7 §5.9.1, 1st bullet:\u001b[39;00m\n\u001b[1;32m    132\u001b[0m     \u001b[38;5;66;03m#   if cmap not empty encoding should be discarded\u001b[39;00m\n\u001b[1;32m    133\u001b[0m     \u001b[38;5;66;03m#   (here transformed into identity for those characters)\u001b[39;00m\n\u001b[1;32m    134\u001b[0m     \u001b[38;5;66;03m# If encoding is a string it is expected to be an identity translation.\u001b[39;00m\n\u001b[1;32m    135\u001b[0m     \u001b[38;5;28;01mif\u001b[39;00m \u001b[38;5;28misinstance\u001b[39m(encoding, \u001b[38;5;28mdict\u001b[39m):\n",
      "File \u001b[0;32m/opt/anaconda3/envs/project_chitti/lib/python3.13/site-packages/pypdf/_cmap.py:212\u001b[0m, in \u001b[0;36m_parse_to_unicode\u001b[0;34m(ft)\u001b[0m\n\u001b[1;32m    210\u001b[0m \u001b[38;5;28;01mif\u001b[39;00m \u001b[38;5;124m\"\u001b[39m\u001b[38;5;124m/ToUnicode\u001b[39m\u001b[38;5;124m\"\u001b[39m \u001b[38;5;129;01mnot\u001b[39;00m \u001b[38;5;129;01min\u001b[39;00m ft:\n\u001b[1;32m    211\u001b[0m     \u001b[38;5;28;01mif\u001b[39;00m ft\u001b[38;5;241m.\u001b[39mget(\u001b[38;5;124m\"\u001b[39m\u001b[38;5;124m/Subtype\u001b[39m\u001b[38;5;124m\"\u001b[39m, \u001b[38;5;124m\"\u001b[39m\u001b[38;5;124m\"\u001b[39m) \u001b[38;5;241m==\u001b[39m \u001b[38;5;124m\"\u001b[39m\u001b[38;5;124m/Type1\u001b[39m\u001b[38;5;124m\"\u001b[39m:\n\u001b[0;32m--> 212\u001b[0m         \u001b[38;5;28;01mreturn\u001b[39;00m \u001b[43m_type1_alternative\u001b[49m\u001b[43m(\u001b[49m\u001b[43mft\u001b[49m\u001b[43m,\u001b[49m\u001b[43m \u001b[49m\u001b[43mmap_dict\u001b[49m\u001b[43m,\u001b[49m\u001b[43m \u001b[49m\u001b[43mint_entry\u001b[49m\u001b[43m)\u001b[49m\n\u001b[1;32m    213\u001b[0m     \u001b[38;5;28;01melse\u001b[39;00m:\n\u001b[1;32m    214\u001b[0m         \u001b[38;5;28;01mreturn\u001b[39;00m {}, []\n",
      "File \u001b[0;32m/opt/anaconda3/envs/project_chitti/lib/python3.13/site-packages/pypdf/_cmap.py:530\u001b[0m, in \u001b[0;36m_type1_alternative\u001b[0;34m(ft, map_dict, int_entry)\u001b[0m\n\u001b[1;32m    528\u001b[0m                 \u001b[38;5;28;01mexcept\u001b[39;00m \u001b[38;5;167;01mValueError\u001b[39;00m:  \u001b[38;5;66;03m# pragma: no cover\u001b[39;00m\n\u001b[1;32m    529\u001b[0m                     \u001b[38;5;28;01mcontinue\u001b[39;00m\n\u001b[0;32m--> 530\u001b[0m         map_dict[\u001b[38;5;28mchr\u001b[39m(i)] \u001b[38;5;241m=\u001b[39m \u001b[43mv\u001b[49m\n\u001b[1;32m    531\u001b[0m         int_entry\u001b[38;5;241m.\u001b[39mappend(i)\n\u001b[1;32m    532\u001b[0m \u001b[38;5;28;01mreturn\u001b[39;00m map_dict, int_entry\n",
      "\u001b[0;31mUnboundLocalError\u001b[0m: cannot access local variable 'v' where it is not associated with a value"
     ]
    }
   ],
   "source": [
    "file_paths = list((Path.cwd() / '../data/raw/test pdfs').glob('*.pdf'))\n",
    "results = extract_text_from_multiple_pdfs(pypdf_txt_extraction, file_paths)\n",
    "print(results)"
   ]
  },
  {
   "cell_type": "code",
   "execution_count": null,
   "id": "01bde510",
   "metadata": {},
   "outputs": [],
   "source": [
    "pypdf_txt_extraction()"
   ]
  },
  {
   "cell_type": "code",
   "execution_count": 23,
   "id": "025c10eb",
   "metadata": {},
   "outputs": [
    {
     "ename": "FileNotFoundError",
     "evalue": "[Errno 2] No such file or directory: '/Users/prateekM/Downloads/Coding/Classes/Projects/Project Chitti/analysis/../../data/raw/test pdfs'",
     "output_type": "error",
     "traceback": [
      "\u001b[0;31m---------------------------------------------------------------------------\u001b[0m",
      "\u001b[0;31mFileNotFoundError\u001b[0m                         Traceback (most recent call last)",
      "Cell \u001b[0;32mIn[23], line 1\u001b[0m\n\u001b[0;32m----> 1\u001b[0m \u001b[43mpypdf_txt_extraction\u001b[49m\u001b[43m(\u001b[49m\u001b[43mPDF_FILES_PATH\u001b[49m\u001b[43m)\u001b[49m\n",
      "Cell \u001b[0;32mIn[8], line 12\u001b[0m, in \u001b[0;36mpypdf_txt_extraction\u001b[0;34m(file_path)\u001b[0m\n\u001b[1;32m      2\u001b[0m \u001b[38;5;250m\u001b[39m\u001b[38;5;124;03m\"\"\"\u001b[39;00m\n\u001b[1;32m      3\u001b[0m \u001b[38;5;124;03mHelper function to extract text from a pdf using pypdf page-wise.\u001b[39;00m\n\u001b[1;32m      4\u001b[0m \n\u001b[0;32m   (...)\u001b[0m\n\u001b[1;32m      9\u001b[0m \u001b[38;5;124;03m    dict: key: page number, value: page text\u001b[39;00m\n\u001b[1;32m     10\u001b[0m \u001b[38;5;124;03m\"\"\"\u001b[39;00m\n\u001b[1;32m     11\u001b[0m pdf_dict \u001b[38;5;241m=\u001b[39m {}\n\u001b[0;32m---> 12\u001b[0m file \u001b[38;5;241m=\u001b[39m \u001b[43mPdfReader\u001b[49m\u001b[43m(\u001b[49m\u001b[43mfile_path\u001b[49m\u001b[43m)\u001b[49m\n\u001b[1;32m     13\u001b[0m time_list \u001b[38;5;241m=\u001b[39m []\n\u001b[1;32m     14\u001b[0m \u001b[38;5;28;01mfor\u001b[39;00m page_num \u001b[38;5;129;01min\u001b[39;00m \u001b[38;5;28mrange\u001b[39m(\u001b[38;5;28mlen\u001b[39m(file\u001b[38;5;241m.\u001b[39mpages)):\n",
      "File \u001b[0;32m/opt/anaconda3/envs/project_chitti/lib/python3.13/site-packages/pypdf/_reader.py:133\u001b[0m, in \u001b[0;36mPdfReader.__init__\u001b[0;34m(self, stream, strict, password)\u001b[0m\n\u001b[1;32m    129\u001b[0m \u001b[38;5;28mself\u001b[39m\u001b[38;5;241m.\u001b[39m_page_id2num: Optional[Dict[Any, Any]] \u001b[38;5;241m=\u001b[39m \u001b[38;5;28;01mNone\u001b[39;00m\n\u001b[1;32m    131\u001b[0m \u001b[38;5;28mself\u001b[39m\u001b[38;5;241m.\u001b[39m_validated_root: Optional[DictionaryObject] \u001b[38;5;241m=\u001b[39m \u001b[38;5;28;01mNone\u001b[39;00m\n\u001b[0;32m--> 133\u001b[0m \u001b[38;5;28;43mself\u001b[39;49m\u001b[38;5;241;43m.\u001b[39;49m\u001b[43m_initialize_stream\u001b[49m\u001b[43m(\u001b[49m\u001b[43mstream\u001b[49m\u001b[43m)\u001b[49m\n\u001b[1;32m    135\u001b[0m \u001b[38;5;28mself\u001b[39m\u001b[38;5;241m.\u001b[39m_override_encryption \u001b[38;5;241m=\u001b[39m \u001b[38;5;28;01mFalse\u001b[39;00m\n\u001b[1;32m    136\u001b[0m \u001b[38;5;28mself\u001b[39m\u001b[38;5;241m.\u001b[39m_encryption: Optional[Encryption] \u001b[38;5;241m=\u001b[39m \u001b[38;5;28;01mNone\u001b[39;00m\n",
      "File \u001b[0;32m/opt/anaconda3/envs/project_chitti/lib/python3.13/site-packages/pypdf/_reader.py:151\u001b[0m, in \u001b[0;36mPdfReader._initialize_stream\u001b[0;34m(self, stream)\u001b[0m\n\u001b[1;32m    149\u001b[0m \u001b[38;5;28mself\u001b[39m\u001b[38;5;241m.\u001b[39m_stream_opened \u001b[38;5;241m=\u001b[39m \u001b[38;5;28;01mFalse\u001b[39;00m\n\u001b[1;32m    150\u001b[0m \u001b[38;5;28;01mif\u001b[39;00m \u001b[38;5;28misinstance\u001b[39m(stream, (\u001b[38;5;28mstr\u001b[39m, Path)):\n\u001b[0;32m--> 151\u001b[0m     \u001b[38;5;28;01mwith\u001b[39;00m \u001b[38;5;28;43mopen\u001b[39;49m\u001b[43m(\u001b[49m\u001b[43mstream\u001b[49m\u001b[43m,\u001b[49m\u001b[43m \u001b[49m\u001b[38;5;124;43m\"\u001b[39;49m\u001b[38;5;124;43mrb\u001b[39;49m\u001b[38;5;124;43m\"\u001b[39;49m\u001b[43m)\u001b[49m \u001b[38;5;28;01mas\u001b[39;00m fh:\n\u001b[1;32m    152\u001b[0m         stream \u001b[38;5;241m=\u001b[39m BytesIO(fh\u001b[38;5;241m.\u001b[39mread())\n\u001b[1;32m    153\u001b[0m     \u001b[38;5;28mself\u001b[39m\u001b[38;5;241m.\u001b[39m_stream_opened \u001b[38;5;241m=\u001b[39m \u001b[38;5;28;01mTrue\u001b[39;00m\n",
      "\u001b[0;31mFileNotFoundError\u001b[0m: [Errno 2] No such file or directory: '/Users/prateekM/Downloads/Coding/Classes/Projects/Project Chitti/analysis/../../data/raw/test pdfs'"
     ]
    }
   ],
   "source": [
    "pypdf_txt_extraction(PDF_FILES_PATH)"
   ]
  },
  {
   "cell_type": "code",
   "execution_count": 4,
   "id": "09ca7af0",
   "metadata": {},
   "outputs": [],
   "source": [
    "def pymupdf_txt_extraction(file_path: Path) -> dict[str, str]:\n",
    "    \"\"\"\n",
    "    Helper function to extract text from a pdf using pymupdf page-wise.\n",
    "\n",
    "    Args:\n",
    "        file_path: Path of the pdf file\n",
    "\n",
    "    Returns:\n",
    "        dict: key: page number, value: page text\n",
    "    \"\"\"\n",
    "    file = pymupdf.open(file_path)\n",
    "    pdf_dict = {}\n",
    "    time_list = []\n",
    "    for page_num in range(file.page_count):\n",
    "        start = time.time()\n",
    "        text = file[page_num].get_text()\n",
    "        end = time.time()\n",
    "        pdf_dict[f'{str(file_path).split('/')[-1]} ~ {page_num}'] = text\n",
    "        time_list.append(end-start)\n",
    "    return pdf_dict, time_list"
   ]
  },
  {
   "cell_type": "code",
   "execution_count": 5,
   "id": "579ef9c1",
   "metadata": {},
   "outputs": [],
   "source": [
    "def pdfminersix_txt_extraction(file_path: Path) -> dict[str, str]:\n",
    "    \"\"\"\n",
    "    Helper function to extract text from a pdf using pdfminer.six page-wise.\n",
    "\n",
    "    Args:\n",
    "        file_path: Path of the pdf file\n",
    "\n",
    "    Returns:\n",
    "        dict: key: page number, value: page text\n",
    "    \"\"\"\n",
    "    pdf_dict = {}\n",
    "    time_list = []\n",
    "    with open(file_path, 'rb') as f:\n",
    "        parser = PDFParser(f)\n",
    "        doc = PDFDocument(parser)\n",
    "        parser.set_document(doc)\n",
    "        pages = resolve1(doc.catalog['Pages'])\n",
    "        pages_count = pages.get('Count', 0)\n",
    "    for page_num in range(pages_count):\n",
    "        start = time.time()\n",
    "        text = extract_text(file_path, page_numbers=[page_num])\n",
    "        end = time.time()\n",
    "        pdf_dict[f'{str(file_path).split('/')[-1]} ~ {page_num}'] = text\n",
    "        time_list.append(end-start)\n",
    "    return pdf_dict, time_list"
   ]
  },
  {
   "cell_type": "code",
   "execution_count": 6,
   "id": "e82c2f52",
   "metadata": {},
   "outputs": [],
   "source": [
    "pypdf_output = pypdf_txt_extraction(PDF_FILES_PATH / 'chess_pdf.pdf')\n",
    "pymupdf_output = pymupdf_txt_extraction(PDF_FILES_PATH / 'chess_pdf.pdf')\n",
    "pdfminer_output = pdfminersix_txt_extraction(PDF_FILES_PATH / 'chess_pdf.pdf')"
   ]
  },
  {
   "cell_type": "code",
   "execution_count": null,
   "id": "bc86e7fd",
   "metadata": {},
   "outputs": [],
   "source": [
    "def levenshtein_distance(ground_truth: Path, extracted):\n",
    "    # Read the contents of both files\n",
    "    with open(ground_truth) as file:\n",
    "        ground_content = file.read()\n",
    "    # Compute and return the Levenshtein distance\n",
    "    return Levenshtein.distance(ground_content, extracted)"
   ]
  },
  {
   "cell_type": "code",
   "execution_count": null,
   "id": "7e30f440",
   "metadata": {},
   "outputs": [],
   "source": [
    "levenshtein_distance(ground_truth / 'chess_pdf.txt', )"
   ]
  },
  {
   "cell_type": "code",
   "execution_count": 7,
   "id": "1905f180",
   "metadata": {},
   "outputs": [
    {
     "data": {
      "text/html": [
       "<div>\n",
       "<style scoped>\n",
       "    .dataframe tbody tr th:only-of-type {\n",
       "        vertical-align: middle;\n",
       "    }\n",
       "\n",
       "    .dataframe tbody tr th {\n",
       "        vertical-align: top;\n",
       "    }\n",
       "\n",
       "    .dataframe thead th {\n",
       "        text-align: right;\n",
       "    }\n",
       "</style>\n",
       "<table border=\"1\" class=\"dataframe\">\n",
       "  <thead>\n",
       "    <tr style=\"text-align: right;\">\n",
       "      <th></th>\n",
       "      <th>PDF_ID</th>\n",
       "      <th>pypdf_txt</th>\n",
       "      <th>pymupdf_txt</th>\n",
       "      <th>pdfminersix_text</th>\n",
       "      <th>pypdf_time</th>\n",
       "      <th>pymupdf_time</th>\n",
       "      <th>pdfminersix_time</th>\n",
       "    </tr>\n",
       "  </thead>\n",
       "  <tbody>\n",
       "    <tr>\n",
       "      <th>0</th>\n",
       "      <td>chess_pdf.pdf ~ 0</td>\n",
       "      <td>Author: Prateek   \\n \\n  1 \\n \\n \\n       Chec...</td>\n",
       "      <td>Author: Prateek \\n \\n \\n \\n1\\n \\n \\n  Checkmat...</td>\n",
       "      <td>Author: Prateek \\n\\n       Checkmate Through T...</td>\n",
       "      <td>0.061482</td>\n",
       "      <td>0.049782</td>\n",
       "      <td>0.043715</td>\n",
       "    </tr>\n",
       "    <tr>\n",
       "      <th>1</th>\n",
       "      <td>chess_pdf.pdf ~ 1</td>\n",
       "      <td>Author: Prateek   \\n \\n  2 \\n \\nChess, the gam...</td>\n",
       "      <td>Author: Prateek \\n \\n \\n \\n2\\n \\nChess, the ga...</td>\n",
       "      <td>Author: Prateek \\n\\nChess, the game of kings a...</td>\n",
       "      <td>0.010423</td>\n",
       "      <td>0.004764</td>\n",
       "      <td>0.018143</td>\n",
       "    </tr>\n",
       "    <tr>\n",
       "      <th>2</th>\n",
       "      <td>chess_pdf.pdf ~ 2</td>\n",
       "      <td>Author: Prateek   \\n \\n  3 \\n \\nThe Birth of C...</td>\n",
       "      <td>Author: Prateek \\n \\n \\n \\n3\\n \\nThe Birth of ...</td>\n",
       "      <td>Author: Prateek \\n\\nThe Birth of Competitive C...</td>\n",
       "      <td>0.008634</td>\n",
       "      <td>0.002915</td>\n",
       "      <td>0.018321</td>\n",
       "    </tr>\n",
       "  </tbody>\n",
       "</table>\n",
       "</div>"
      ],
      "text/plain": [
       "              PDF_ID                                          pypdf_txt  \\\n",
       "0  chess_pdf.pdf ~ 0  Author: Prateek   \\n \\n  1 \\n \\n \\n       Chec...   \n",
       "1  chess_pdf.pdf ~ 1  Author: Prateek   \\n \\n  2 \\n \\nChess, the gam...   \n",
       "2  chess_pdf.pdf ~ 2  Author: Prateek   \\n \\n  3 \\n \\nThe Birth of C...   \n",
       "\n",
       "                                         pymupdf_txt  \\\n",
       "0  Author: Prateek \\n \\n \\n \\n1\\n \\n \\n  Checkmat...   \n",
       "1  Author: Prateek \\n \\n \\n \\n2\\n \\nChess, the ga...   \n",
       "2  Author: Prateek \\n \\n \\n \\n3\\n \\nThe Birth of ...   \n",
       "\n",
       "                                    pdfminersix_text  pypdf_time  \\\n",
       "0  Author: Prateek \\n\\n       Checkmate Through T...    0.061482   \n",
       "1  Author: Prateek \\n\\nChess, the game of kings a...    0.010423   \n",
       "2  Author: Prateek \\n\\nThe Birth of Competitive C...    0.008634   \n",
       "\n",
       "   pymupdf_time  pdfminersix_time  \n",
       "0      0.049782          0.043715  \n",
       "1      0.004764          0.018143  \n",
       "2      0.002915          0.018321  "
      ]
     },
     "execution_count": 7,
     "metadata": {},
     "output_type": "execute_result"
    }
   ],
   "source": [
    "pdf_df = pd.DataFrame({'PDF_ID': list(pypdf_output[0].keys())})\n",
    "pdf_df['pypdf_txt'] = list((pypdf_output[0]).values())\n",
    "pdf_df['pymupdf_txt'] = list((pymupdf_output[0]).values())\n",
    "pdf_df['pdfminersix_text'] = list((pdfminer_output[0]).values())\n",
    "pdf_df['pypdf_time'] = list(pypdf_output[1])\n",
    "pdf_df['pymupdf_time'] = list(pymupdf_output[1])\n",
    "pdf_df['pdfminersix_time'] = list(pdfminer_output[1])\n",
    "pdf_df"
   ]
  },
  {
   "cell_type": "code",
   "execution_count": 18,
   "id": "dcaa9cac",
   "metadata": {},
   "outputs": [
    {
     "name": "stdout",
     "output_type": "stream",
     "text": [
      "0.02685\n",
      "0.01915\n",
      "0.02673\n"
     ]
    }
   ],
   "source": [
    "print(pdf_df['pypdf_time'].values.mean().round(5))\n",
    "print(pdf_df['pymupdf_time'].values.mean().round(5))\n",
    "print(pdf_df['pdfminersix_time'].values.mean().round(5))"
   ]
  },
  {
   "cell_type": "code",
   "execution_count": 19,
   "id": "a5c56bf7",
   "metadata": {},
   "outputs": [
    {
     "ename": "ImportError",
     "evalue": "matplotlib is required for plotting when the default backend \"matplotlib\" is selected.",
     "output_type": "error",
     "traceback": [
      "\u001b[0;31m---------------------------------------------------------------------------\u001b[0m",
      "\u001b[0;31mImportError\u001b[0m                               Traceback (most recent call last)",
      "Cell \u001b[0;32mIn[19], line 1\u001b[0m\n\u001b[0;32m----> 1\u001b[0m \u001b[43mpdf_df\u001b[49m\u001b[43m[\u001b[49m\u001b[38;5;124;43m'\u001b[39;49m\u001b[38;5;124;43mpypdf_time\u001b[39;49m\u001b[38;5;124;43m'\u001b[39;49m\u001b[43m]\u001b[49m\u001b[38;5;241;43m.\u001b[39;49m\u001b[43mplot\u001b[49m\u001b[43m(\u001b[49m\u001b[43m)\u001b[49m\n",
      "File \u001b[0;32m/opt/anaconda3/envs/project_chitti/lib/python3.13/site-packages/pandas/plotting/_core.py:947\u001b[0m, in \u001b[0;36mPlotAccessor.__call__\u001b[0;34m(self, *args, **kwargs)\u001b[0m\n\u001b[1;32m    946\u001b[0m \u001b[38;5;28;01mdef\u001b[39;00m \u001b[38;5;21m__call__\u001b[39m(\u001b[38;5;28mself\u001b[39m, \u001b[38;5;241m*\u001b[39margs, \u001b[38;5;241m*\u001b[39m\u001b[38;5;241m*\u001b[39mkwargs):\n\u001b[0;32m--> 947\u001b[0m     plot_backend \u001b[38;5;241m=\u001b[39m \u001b[43m_get_plot_backend\u001b[49m\u001b[43m(\u001b[49m\u001b[43mkwargs\u001b[49m\u001b[38;5;241;43m.\u001b[39;49m\u001b[43mpop\u001b[49m\u001b[43m(\u001b[49m\u001b[38;5;124;43m\"\u001b[39;49m\u001b[38;5;124;43mbackend\u001b[39;49m\u001b[38;5;124;43m\"\u001b[39;49m\u001b[43m,\u001b[49m\u001b[43m \u001b[49m\u001b[38;5;28;43;01mNone\u001b[39;49;00m\u001b[43m)\u001b[49m\u001b[43m)\u001b[49m\n\u001b[1;32m    949\u001b[0m     x, y, kind, kwargs \u001b[38;5;241m=\u001b[39m \u001b[38;5;28mself\u001b[39m\u001b[38;5;241m.\u001b[39m_get_call_args(\n\u001b[1;32m    950\u001b[0m         plot_backend\u001b[38;5;241m.\u001b[39m\u001b[38;5;18m__name__\u001b[39m, \u001b[38;5;28mself\u001b[39m\u001b[38;5;241m.\u001b[39m_parent, args, kwargs\n\u001b[1;32m    951\u001b[0m     )\n\u001b[1;32m    953\u001b[0m     kind \u001b[38;5;241m=\u001b[39m \u001b[38;5;28mself\u001b[39m\u001b[38;5;241m.\u001b[39m_kind_aliases\u001b[38;5;241m.\u001b[39mget(kind, kind)\n",
      "File \u001b[0;32m/opt/anaconda3/envs/project_chitti/lib/python3.13/site-packages/pandas/plotting/_core.py:1944\u001b[0m, in \u001b[0;36m_get_plot_backend\u001b[0;34m(backend)\u001b[0m\n\u001b[1;32m   1941\u001b[0m \u001b[38;5;28;01mif\u001b[39;00m backend_str \u001b[38;5;129;01min\u001b[39;00m _backends:\n\u001b[1;32m   1942\u001b[0m     \u001b[38;5;28;01mreturn\u001b[39;00m _backends[backend_str]\n\u001b[0;32m-> 1944\u001b[0m module \u001b[38;5;241m=\u001b[39m \u001b[43m_load_backend\u001b[49m\u001b[43m(\u001b[49m\u001b[43mbackend_str\u001b[49m\u001b[43m)\u001b[49m\n\u001b[1;32m   1945\u001b[0m _backends[backend_str] \u001b[38;5;241m=\u001b[39m module\n\u001b[1;32m   1946\u001b[0m \u001b[38;5;28;01mreturn\u001b[39;00m module\n",
      "File \u001b[0;32m/opt/anaconda3/envs/project_chitti/lib/python3.13/site-packages/pandas/plotting/_core.py:1874\u001b[0m, in \u001b[0;36m_load_backend\u001b[0;34m(backend)\u001b[0m\n\u001b[1;32m   1872\u001b[0m         module \u001b[38;5;241m=\u001b[39m importlib\u001b[38;5;241m.\u001b[39mimport_module(\u001b[38;5;124m\"\u001b[39m\u001b[38;5;124mpandas.plotting._matplotlib\u001b[39m\u001b[38;5;124m\"\u001b[39m)\n\u001b[1;32m   1873\u001b[0m     \u001b[38;5;28;01mexcept\u001b[39;00m \u001b[38;5;167;01mImportError\u001b[39;00m:\n\u001b[0;32m-> 1874\u001b[0m         \u001b[38;5;28;01mraise\u001b[39;00m \u001b[38;5;167;01mImportError\u001b[39;00m(\n\u001b[1;32m   1875\u001b[0m             \u001b[38;5;124m\"\u001b[39m\u001b[38;5;124mmatplotlib is required for plotting when the \u001b[39m\u001b[38;5;124m\"\u001b[39m\n\u001b[1;32m   1876\u001b[0m             \u001b[38;5;124m'\u001b[39m\u001b[38;5;124mdefault backend \u001b[39m\u001b[38;5;124m\"\u001b[39m\u001b[38;5;124mmatplotlib\u001b[39m\u001b[38;5;124m\"\u001b[39m\u001b[38;5;124m is selected.\u001b[39m\u001b[38;5;124m'\u001b[39m\n\u001b[1;32m   1877\u001b[0m         ) \u001b[38;5;28;01mfrom\u001b[39;00m \u001b[38;5;28;01mNone\u001b[39;00m\n\u001b[1;32m   1878\u001b[0m     \u001b[38;5;28;01mreturn\u001b[39;00m module\n\u001b[1;32m   1880\u001b[0m found_backend \u001b[38;5;241m=\u001b[39m \u001b[38;5;28;01mFalse\u001b[39;00m\n",
      "\u001b[0;31mImportError\u001b[0m: matplotlib is required for plotting when the default backend \"matplotlib\" is selected."
     ]
    }
   ],
   "source": [
    "pdf_df['pypdf_time'].plot()"
   ]
  },
  {
   "cell_type": "code",
   "execution_count": 107,
   "id": "b349c15f",
   "metadata": {},
   "outputs": [
    {
     "name": "stdout",
     "output_type": "stream",
     "text": [
      "Processing file: matplotlib_41-61_pdf.pdf\n",
      "Processing file: matplotlib_61-81_pdf.pdf\n",
      "Processing file: latex_pdf.pdf\n",
      "Processing file: basketball_pdf.pdf\n",
      "Processing file: notion_pdf.pdf\n",
      "Processing file: matplotlib_1-21_pdf.pdf\n",
      "Processing file: chess_pdf.pdf\n",
      "Processing file: sleep_pdf.pdf\n",
      "Processing file: matplotlib_81-101_pdf.pdf\n",
      "Processing file: genai_pdf.pdf\n",
      "Processing file: matplotlib_21-41_pdf.pdf\n"
     ]
    },
    {
     "data": {
      "text/html": [
       "<div>\n",
       "<style scoped>\n",
       "    .dataframe tbody tr th:only-of-type {\n",
       "        vertical-align: middle;\n",
       "    }\n",
       "\n",
       "    .dataframe tbody tr th {\n",
       "        vertical-align: top;\n",
       "    }\n",
       "\n",
       "    .dataframe thead th {\n",
       "        text-align: right;\n",
       "    }\n",
       "</style>\n",
       "<table border=\"1\" class=\"dataframe\">\n",
       "  <thead>\n",
       "    <tr style=\"text-align: right;\">\n",
       "      <th></th>\n",
       "      <th>PDF_ID</th>\n",
       "      <th>Page_Number</th>\n",
       "      <th>Extracted_txt_pypdf</th>\n",
       "      <th>timelist</th>\n",
       "    </tr>\n",
       "  </thead>\n",
       "  <tbody>\n",
       "    <tr>\n",
       "      <th>0</th>\n",
       "      <td>matplotlib_41-61_pdf.pdf</td>\n",
       "      <td>0</td>\n",
       "      <td>Matplotlib, Release 2.0.2\\n0 10 20 30 40 50 60...</td>\n",
       "      <td>(0, 0.007756948471069336)</td>\n",
       "    </tr>\n",
       "    <tr>\n",
       "      <th>1</th>\n",
       "      <td>matplotlib_41-61_pdf.pdf</td>\n",
       "      <td>1</td>\n",
       "      <td>Matplotlib, Release 2.0.2\\n0 10 20 30 40 50 60...</td>\n",
       "      <td>(1, 0.009490013122558594)</td>\n",
       "    </tr>\n",
       "    <tr>\n",
       "      <th>2</th>\n",
       "      <td>matplotlib_41-61_pdf.pdf</td>\n",
       "      <td>2</td>\n",
       "      <td>Matplotlib, Release 2.0.2\\nax = plt.subplot(2,...</td>\n",
       "      <td>(2, 0.006669759750366211)</td>\n",
       "    </tr>\n",
       "    <tr>\n",
       "      <th>3</th>\n",
       "      <td>matplotlib_41-61_pdf.pdf</td>\n",
       "      <td>3</td>\n",
       "      <td>Matplotlib, Release 2.0.2\\nax = plt.subplot2gr...</td>\n",
       "      <td>(3, 0.006701946258544922)</td>\n",
       "    </tr>\n",
       "    <tr>\n",
       "      <th>4</th>\n",
       "      <td>matplotlib_41-61_pdf.pdf</td>\n",
       "      <td>4</td>\n",
       "      <td>Matplotlib, Release 2.0.2\\nAdjust GridSpec lay...</td>\n",
       "      <td>(4, 0.007735013961791992)</td>\n",
       "    </tr>\n",
       "    <tr>\n",
       "      <th>...</th>\n",
       "      <td>...</td>\n",
       "      <td>...</td>\n",
       "      <td>...</td>\n",
       "      <td>...</td>\n",
       "    </tr>\n",
       "    <tr>\n",
       "      <th>121</th>\n",
       "      <td>matplotlib_21-41_pdf.pdf</td>\n",
       "      <td>15</td>\n",
       "      <td>Matplotlib, Release 2.0.2\\n0 100 200 300 400 5...</td>\n",
       "      <td>(15, 0.0036721229553222656)</td>\n",
       "    </tr>\n",
       "    <tr>\n",
       "      <th>122</th>\n",
       "      <td>matplotlib_21-41_pdf.pdf</td>\n",
       "      <td>16</td>\n",
       "      <td>Matplotlib, Release 2.0.2\\n0 100 200 300 400 5...</td>\n",
       "      <td>(16, 0.004858255386352539)</td>\n",
       "    </tr>\n",
       "    <tr>\n",
       "      <th>123</th>\n",
       "      <td>matplotlib_21-41_pdf.pdf</td>\n",
       "      <td>17</td>\n",
       "      <td>Matplotlib, Release 2.0.2\\n0.0 0.2 0.4 0.6 0.8...</td>\n",
       "      <td>(17, 0.014045953750610352)</td>\n",
       "    </tr>\n",
       "    <tr>\n",
       "      <th>124</th>\n",
       "      <td>matplotlib_21-41_pdf.pdf</td>\n",
       "      <td>18</td>\n",
       "      <td>Matplotlib, Release 2.0.2\\n0 200 4000\\n100\\n20...</td>\n",
       "      <td>(18, 0.006106853485107422)</td>\n",
       "    </tr>\n",
       "    <tr>\n",
       "      <th>125</th>\n",
       "      <td>matplotlib_21-41_pdf.pdf</td>\n",
       "      <td>19</td>\n",
       "      <td>Matplotlib, Release 2.0.2\\n0 10 20 30 40 50 60...</td>\n",
       "      <td>(19, 0.003280162811279297)</td>\n",
       "    </tr>\n",
       "  </tbody>\n",
       "</table>\n",
       "<p>126 rows × 4 columns</p>\n",
       "</div>"
      ],
      "text/plain": [
       "                       PDF_ID  Page_Number  \\\n",
       "0    matplotlib_41-61_pdf.pdf            0   \n",
       "1    matplotlib_41-61_pdf.pdf            1   \n",
       "2    matplotlib_41-61_pdf.pdf            2   \n",
       "3    matplotlib_41-61_pdf.pdf            3   \n",
       "4    matplotlib_41-61_pdf.pdf            4   \n",
       "..                        ...          ...   \n",
       "121  matplotlib_21-41_pdf.pdf           15   \n",
       "122  matplotlib_21-41_pdf.pdf           16   \n",
       "123  matplotlib_21-41_pdf.pdf           17   \n",
       "124  matplotlib_21-41_pdf.pdf           18   \n",
       "125  matplotlib_21-41_pdf.pdf           19   \n",
       "\n",
       "                                   Extracted_txt_pypdf  \\\n",
       "0    Matplotlib, Release 2.0.2\\n0 10 20 30 40 50 60...   \n",
       "1    Matplotlib, Release 2.0.2\\n0 10 20 30 40 50 60...   \n",
       "2    Matplotlib, Release 2.0.2\\nax = plt.subplot(2,...   \n",
       "3    Matplotlib, Release 2.0.2\\nax = plt.subplot2gr...   \n",
       "4    Matplotlib, Release 2.0.2\\nAdjust GridSpec lay...   \n",
       "..                                                 ...   \n",
       "121  Matplotlib, Release 2.0.2\\n0 100 200 300 400 5...   \n",
       "122  Matplotlib, Release 2.0.2\\n0 100 200 300 400 5...   \n",
       "123  Matplotlib, Release 2.0.2\\n0.0 0.2 0.4 0.6 0.8...   \n",
       "124  Matplotlib, Release 2.0.2\\n0 200 4000\\n100\\n20...   \n",
       "125  Matplotlib, Release 2.0.2\\n0 10 20 30 40 50 60...   \n",
       "\n",
       "                        timelist  \n",
       "0      (0, 0.007756948471069336)  \n",
       "1      (1, 0.009490013122558594)  \n",
       "2      (2, 0.006669759750366211)  \n",
       "3      (3, 0.006701946258544922)  \n",
       "4      (4, 0.007735013961791992)  \n",
       "..                           ...  \n",
       "121  (15, 0.0036721229553222656)  \n",
       "122   (16, 0.004858255386352539)  \n",
       "123   (17, 0.014045953750610352)  \n",
       "124   (18, 0.006106853485107422)  \n",
       "125   (19, 0.003280162811279297)  \n",
       "\n",
       "[126 rows x 4 columns]"
      ]
     },
     "execution_count": 107,
     "metadata": {},
     "output_type": "execute_result"
    }
   ],
   "source": [
    "from pathlib import Path\n",
    "from PyPDF2 import PdfReader\n",
    "import time\n",
    "\n",
    "def pypdf_txt_extraction(file_path: Path) -> dict[str, str]:\n",
    "    \"\"\"\n",
    "    Helper function to extract text from a pdf using pypdf page-wise.\n",
    "\n",
    "    Args:\n",
    "        file_path: Path of the pdf file\n",
    "\n",
    "    Returns:\n",
    "        dict: key: page number, value: page text\n",
    "    \"\"\"\n",
    "    pdf_dict = {}\n",
    "    file = PdfReader(file_path)\n",
    "    time_list = []\n",
    "\n",
    "    for page_num in range(len(file.pages)):\n",
    "        start = time.time()\n",
    "        extracted_txt = file.pages[page_num].extract_text()\n",
    "        if extracted_txt:  # Avoiding None values\n",
    "            pdf_dict[page_num] = extracted_txt\n",
    "        end = time.time()\n",
    "        time_list.append((page_num, end-start))\n",
    "    return pdf_dict, time_list\n",
    "\n",
    "def extract_from_multiple_pdfs(directory_path: Path, library_name: str):\n",
    "    \"\"\"\n",
    "    Extract text from all PDF files in the specified directory using the specified library.\n",
    "    \n",
    "    Args:\n",
    "        directory_path: Path of the directory containing PDF files\n",
    "        library_name: Name of the PDF extraction library\n",
    "    \n",
    "    Returns:\n",
    "        list: A list of dictionaries with 'PDF_ID', 'Extracted_txt_[libraryname]', and 'timelist'.\n",
    "    \"\"\"\n",
    "    all_results = []\n",
    "    \n",
    "    \n",
    "    # Iterate through all the PDFs in the given directory\n",
    "    pdf_files = list(directory_path.glob('*.pdf'))\n",
    "    \n",
    "    for pdf_file in pdf_files:\n",
    "        print(f\"Processing file: {pdf_file.name}\")\n",
    "        \n",
    "        # Use the original pypdf_txt_extraction function\n",
    "        pdf_dict, time_list = pypdf_txt_extraction(pdf_file)\n",
    "        \n",
    "        # Add multiple rows for each page of the PDF\n",
    "        for page_num, extracted_txt in pdf_dict.items():\n",
    "            all_results.append({\n",
    "                'PDF_ID': pdf_file.name,\n",
    "                'Page_Number': page_num,\n",
    "                f'Extracted_txt_{library_name}': extracted_txt,\n",
    "                'timelist': time_list[page_num]  # Get the time for that page\n",
    "            })\n",
    "    \n",
    "    return all_results\n",
    "# Example usage:\n",
    "results = extract_from_multiple_pdfs(PDF_FILES_PATH, 'pypdf')\n",
    "pd.DataFrame(results)\n"
   ]
  },
  {
   "cell_type": "code",
   "execution_count": 97,
   "id": "2cef5bdf",
   "metadata": {},
   "outputs": [
    {
     "data": {
      "text/html": [
       "<div>\n",
       "<style scoped>\n",
       "    .dataframe tbody tr th:only-of-type {\n",
       "        vertical-align: middle;\n",
       "    }\n",
       "\n",
       "    .dataframe tbody tr th {\n",
       "        vertical-align: top;\n",
       "    }\n",
       "\n",
       "    .dataframe thead th {\n",
       "        text-align: right;\n",
       "    }\n",
       "</style>\n",
       "<table border=\"1\" class=\"dataframe\">\n",
       "  <thead>\n",
       "    <tr style=\"text-align: right;\">\n",
       "      <th></th>\n",
       "      <th>Extracted_txt_pypdf</th>\n",
       "      <th>timelist</th>\n",
       "    </tr>\n",
       "  </thead>\n",
       "  <tbody>\n",
       "    <tr>\n",
       "      <th>matplotlib_41-61_pdf.pdf</th>\n",
       "      <td>{0: 'Matplotlib, Release 2.0.2\n",
       "0 10 20 30 40 5...</td>\n",
       "      <td>[(0, 0.01674795150756836), (1, 0.0066199302673...</td>\n",
       "    </tr>\n",
       "    <tr>\n",
       "      <th>matplotlib_61-81_pdf.pdf</th>\n",
       "      <td>{0: 'Matplotlib, Release 2.0.2\n",
       "1.01.52.0y-labe...</td>\n",
       "      <td>[(0, 0.007433891296386719), (1, 0.007052183151...</td>\n",
       "    </tr>\n",
       "    <tr>\n",
       "      <th>latex_pdf.pdf</th>\n",
       "      <td>{0: 'Sample PDF Document\n",
       "RobertMaron\n",
       "Grzegorz ...</td>\n",
       "      <td>[(0, 0.0006620883941650391), (1, 0.00018310546...</td>\n",
       "    </tr>\n",
       "    <tr>\n",
       "      <th>basketball_pdf.pdf</th>\n",
       "      <td>{0: 'The\n",
       "Global\n",
       "Game:\n",
       "Basketball's\n",
       "Unifying\n",
       "Po...</td>\n",
       "      <td>[(0, 0.005740165710449219), (1, 0.022172927856...</td>\n",
       "    </tr>\n",
       "    <tr>\n",
       "      <th>notion_pdf.pdf</th>\n",
       "      <td>{0: 'Gen AI Intr oduction  Not es\n",
       "1G e n  A I...</td>\n",
       "      <td>[(0, 0.005805015563964844), (1, 0.001660823822...</td>\n",
       "    </tr>\n",
       "    <tr>\n",
       "      <th>matplotlib_1-21_pdf.pdf</th>\n",
       "      <td>{0: 'Matplotlib\n",
       "Release 2.0.2\n",
       "John Hunter, Dar...</td>\n",
       "      <td>[(0, 0.001112222671508789), (1, 5.197525024414...</td>\n",
       "    </tr>\n",
       "    <tr>\n",
       "      <th>chess_pdf.pdf</th>\n",
       "      <td>{0: 'Author: Prateek    \n",
       " \n",
       "  1 \n",
       "  \n",
       "       Chec...</td>\n",
       "      <td>[(0, 0.004670143127441406), (1, 0.008870840072...</td>\n",
       "    </tr>\n",
       "    <tr>\n",
       "      <th>sleep_pdf.pdf</th>\n",
       "      <td>{0: ' \n",
       "Sleep Deprivation: Your Body's Silent \n",
       "...</td>\n",
       "      <td>[(0, 0.006541252136230469), (1, 0.006972789764...</td>\n",
       "    </tr>\n",
       "    <tr>\n",
       "      <th>matplotlib_81-101_pdf.pdf</th>\n",
       "      <td>{0: 'Matplotlib, Release 2.0.2\n",
       "All of this ﬂex...</td>\n",
       "      <td>[(0, 0.00846409797668457), (1, 0.0056309700012...</td>\n",
       "    </tr>\n",
       "    <tr>\n",
       "      <th>genai_pdf.pdf</th>\n",
       "      <td>{0: '   \n",
       " \n",
       "   \n",
       "  \n",
       "Generative AI: Your New Digi...</td>\n",
       "      <td>[(0, 0.009430170059204102), (1, 0.008116960525...</td>\n",
       "    </tr>\n",
       "    <tr>\n",
       "      <th>matplotlib_21-41_pdf.pdf</th>\n",
       "      <td>{0: 'Matplotlib, Release 2.0.2\n",
       "0 1 2 3 4 5 60....</td>\n",
       "      <td>[(0, 0.007158041000366211), (1, 0.006768703460...</td>\n",
       "    </tr>\n",
       "  </tbody>\n",
       "</table>\n",
       "</div>"
      ],
      "text/plain": [
       "                                                         Extracted_txt_pypdf  \\\n",
       "matplotlib_41-61_pdf.pdf   {0: 'Matplotlib, Release 2.0.2\n",
       "0 10 20 30 40 5...   \n",
       "matplotlib_61-81_pdf.pdf   {0: 'Matplotlib, Release 2.0.2\n",
       "1.01.52.0y-labe...   \n",
       "latex_pdf.pdf              {0: 'Sample PDF Document\n",
       "RobertMaron\n",
       "Grzegorz ...   \n",
       "basketball_pdf.pdf         {0: 'The\n",
       "Global\n",
       "Game:\n",
       "Basketball's\n",
       "Unifying\n",
       "Po...   \n",
       "notion_pdf.pdf             {0: 'Gen AI Intr oduction  Not es\n",
       "1G e n  A I...   \n",
       "matplotlib_1-21_pdf.pdf    {0: 'Matplotlib\n",
       "Release 2.0.2\n",
       "John Hunter, Dar...   \n",
       "chess_pdf.pdf              {0: 'Author: Prateek    \n",
       " \n",
       "  1 \n",
       "  \n",
       "       Chec...   \n",
       "sleep_pdf.pdf              {0: ' \n",
       "Sleep Deprivation: Your Body's Silent \n",
       "...   \n",
       "matplotlib_81-101_pdf.pdf  {0: 'Matplotlib, Release 2.0.2\n",
       "All of this ﬂex...   \n",
       "genai_pdf.pdf              {0: '   \n",
       " \n",
       "   \n",
       "  \n",
       "Generative AI: Your New Digi...   \n",
       "matplotlib_21-41_pdf.pdf   {0: 'Matplotlib, Release 2.0.2\n",
       "0 1 2 3 4 5 60....   \n",
       "\n",
       "                                                                    timelist  \n",
       "matplotlib_41-61_pdf.pdf   [(0, 0.01674795150756836), (1, 0.0066199302673...  \n",
       "matplotlib_61-81_pdf.pdf   [(0, 0.007433891296386719), (1, 0.007052183151...  \n",
       "latex_pdf.pdf              [(0, 0.0006620883941650391), (1, 0.00018310546...  \n",
       "basketball_pdf.pdf         [(0, 0.005740165710449219), (1, 0.022172927856...  \n",
       "notion_pdf.pdf             [(0, 0.005805015563964844), (1, 0.001660823822...  \n",
       "matplotlib_1-21_pdf.pdf    [(0, 0.001112222671508789), (1, 5.197525024414...  \n",
       "chess_pdf.pdf              [(0, 0.004670143127441406), (1, 0.008870840072...  \n",
       "sleep_pdf.pdf              [(0, 0.006541252136230469), (1, 0.006972789764...  \n",
       "matplotlib_81-101_pdf.pdf  [(0, 0.00846409797668457), (1, 0.0056309700012...  \n",
       "genai_pdf.pdf              [(0, 0.009430170059204102), (1, 0.008116960525...  \n",
       "matplotlib_21-41_pdf.pdf   [(0, 0.007158041000366211), (1, 0.006768703460...  "
      ]
     },
     "execution_count": 97,
     "metadata": {},
     "output_type": "execute_result"
    }
   ],
   "source": [
    "pd.DataFrame(results).transpose()"
   ]
  },
  {
   "cell_type": "markdown",
   "id": "a7226fb3",
   "metadata": {},
   "source": [
    "---"
   ]
  }
 ],
 "metadata": {
  "kernelspec": {
   "display_name": "Python 3 (ipykernel)",
   "language": "python",
   "name": "python3"
  },
  "language_info": {
   "codemirror_mode": {
    "name": "ipython",
    "version": 3
   },
   "file_extension": ".py",
   "mimetype": "text/x-python",
   "name": "python",
   "nbconvert_exporter": "python",
   "pygments_lexer": "ipython3",
   "version": "3.13.0"
  }
 },
 "nbformat": 4,
 "nbformat_minor": 5
}
