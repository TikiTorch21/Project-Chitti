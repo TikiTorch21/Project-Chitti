{
 "cells": [
  {
   "cell_type": "markdown",
   "id": "3712f19c-7f91-49e7-9904-8d99c30662a9",
   "metadata": {},
   "source": [
    "# PDF Parsing Libraries"
   ]
  },
  {
   "cell_type": "code",
   "execution_count": 1,
   "id": "c28c67a9-4941-44d0-b3b5-736ba9a25606",
   "metadata": {},
   "outputs": [],
   "source": [
    "from thefuzz import fuzz\n",
    "from pathlib import Path\n",
    "from pypdf import PdfReader\n",
    "from pdfminer.high_level import extract_text\n",
    "import pymupdf"
   ]
  },
  {
   "cell_type": "code",
   "execution_count": 2,
   "id": "d2cffd9a-c1f8-4e91-af98-4fde99959c6f",
   "metadata": {},
   "outputs": [],
   "source": [
    "pdf_fold = Path.cwd() / \"Test PDFs\"\n",
    "library_output_fold = Path.cwd() / \"Test PDF's Library Extraction\""
   ]
  },
  {
   "cell_type": "markdown",
   "id": "f9aa1ef6-eb02-4bb7-a036-cf6b93ba0699",
   "metadata": {},
   "source": [
    "## PyPDF2"
   ]
  },
  {
   "cell_type": "markdown",
   "id": "c72b7503-79ac-478a-840c-3779a23a67f5",
   "metadata": {},
   "source": [
    "### PDF 1"
   ]
  },
  {
   "cell_type": "code",
   "execution_count": 3,
   "id": "5781bfc5-657c-4441-988c-4e68818280d7",
   "metadata": {},
   "outputs": [],
   "source": [
    "PDF1 = pdf_fold / 'PDF1.pdf'"
   ]
  },
  {
   "cell_type": "code",
   "execution_count": 4,
   "id": "8c1a0752-ac82-4ef5-bd68-644a8636ed8d",
   "metadata": {},
   "outputs": [],
   "source": [
    "doc = pymupdf.open(PDF1)\n",
    "with open(library_output_fold / \"pdf1_pypdf_output.txt\", \"w\") as out:\n",
    "    reader = PdfReader(PDF1)\n",
    "    number_of_pages = len(reader.pages)\n",
    "    page = reader.pages[0]\n",
    "    out.write(page.extract_text()) # write text of page"
   ]
  },
  {
   "cell_type": "code",
   "execution_count": 5,
   "id": "af4cce41-3a80-42f4-afca-57f9224aff43",
   "metadata": {},
   "outputs": [],
   "source": [
    "reader = PdfReader(PDF1)\n",
    "number_of_pages = len(reader.pages)\n",
    "page = reader.pages[0]\n",
    "text = page.extract_text()"
   ]
  },
  {
   "attachments": {},
   "cell_type": "markdown",
   "id": "1b4add9e-e505-4f55-bb26-0503af79bcf9",
   "metadata": {},
   "source": [
    "#### Observations:\n",
    "1. Overall maintained it's general format(paragraphs)\n",
    "2. In the pdf, there was a space line between 2 lines; the library didn't implement this. \n",
    "3. Lot of commands and operations to do just to extract text from a pdf."
   ]
  },
  {
   "cell_type": "markdown",
   "id": "e4f7afe0-22b2-46c1-80e5-5142edc7b695",
   "metadata": {},
   "source": [
    "---"
   ]
  },
  {
   "cell_type": "markdown",
   "id": "3372f122-4f0a-4cae-996e-50ad9f6da9cf",
   "metadata": {},
   "source": [
    "## Pymupdf"
   ]
  },
  {
   "cell_type": "markdown",
   "id": "2e05dc61-8395-4320-83c3-b6353ded945d",
   "metadata": {},
   "source": [
    "### PDF 1"
   ]
  },
  {
   "cell_type": "code",
   "execution_count": 6,
   "id": "e299d8cc-2189-4851-8303-ab16f738dad4",
   "metadata": {},
   "outputs": [],
   "source": [
    "doc = pymupdf.open(PDF1)\n",
    "#out = open(\"pdf1_output.txt\", \"wb\") # create a text output\n",
    "with open(library_output_fold / \"pdf1_pymupdf_output.txt\", \"w\") as out:\n",
    "    for page in doc: # iterate the document pages\n",
    "        text = page.get_text() # get plain text (is in UTF-8)\n",
    "        out.write(text) # write text of page"
   ]
  },
  {
   "cell_type": "markdown",
   "id": "523d43a8-db53-4d81-b0f7-0c193cbb0d8b",
   "metadata": {},
   "source": [
    "#### Observations:\n",
    "1. Process to extract text seems relatively simpler than using pypdf.\n",
    "2. Same problem as pypdf, didn't register the space line between the two lines."
   ]
  },
  {
   "cell_type": "markdown",
   "id": "48ed2276-aadf-4b05-85e3-9643f1e4cfb5",
   "metadata": {},
   "source": [
    "---"
   ]
  },
  {
   "cell_type": "markdown",
   "id": "061fe843-ca6a-4fc4-b142-0b59d9b1505a",
   "metadata": {},
   "source": [
    "## pdfminer.six"
   ]
  },
  {
   "cell_type": "markdown",
   "id": "8971445f-7ce1-4d28-ad15-3362b8f3a59b",
   "metadata": {},
   "source": [
    "### PDF 1"
   ]
  },
  {
   "cell_type": "code",
   "execution_count": 7,
   "id": "56c2924b-7706-4d44-8222-f8a481ce4e15",
   "metadata": {},
   "outputs": [],
   "source": [
    "text = extract_text(PDF1, codec='utf-8')\n",
    "with open(library_output_fold / 'pdf1_pdfminer_output.txt', 'w') as out:\n",
    "    out.write(text)"
   ]
  },
  {
   "cell_type": "markdown",
   "id": "071ccb54-7d1d-4ea9-99f4-f952b2ec8af4",
   "metadata": {},
   "source": [
    "#### Observations\n",
    "1. Much simpler than the last two; very intuitive\n",
    "2. Unlike the other two, this library registed the space line added between the two lines, and added it in the txt file created."
   ]
  },
  {
   "cell_type": "markdown",
   "id": "85cbcf51-2bc7-48ba-b4e2-fe2914551a38",
   "metadata": {},
   "source": [
    "---"
   ]
  }
 ],
 "metadata": {
  "kernelspec": {
   "display_name": "Python 3 (ipykernel)",
   "language": "python",
   "name": "python3"
  },
  "language_info": {
   "codemirror_mode": {
    "name": "ipython",
    "version": 3
   },
   "file_extension": ".py",
   "mimetype": "text/x-python",
   "name": "python",
   "nbconvert_exporter": "python",
   "pygments_lexer": "ipython3",
   "version": "3.13.0"
  }
 },
 "nbformat": 4,
 "nbformat_minor": 5
}
