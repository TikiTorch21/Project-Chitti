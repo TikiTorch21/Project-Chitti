{
 "cells": [
  {
   "cell_type": "markdown",
   "id": "3712f19c-7f91-49e7-9904-8d99c30662a9",
   "metadata": {},
   "source": [
    "# PDF Parsing Libraries"
   ]
  },
  {
   "cell_type": "code",
   "execution_count": 1,
   "id": "c28c67a9-4941-44d0-b3b5-736ba9a25606",
   "metadata": {},
   "outputs": [],
   "source": [
    "from thefuzz import fuzz\n",
    "from pathlib import Path\n",
    "from PyPDF2 import PdfReader\n",
    "from pdfminer.high_level import extract_text\n",
    "import pymupdf"
   ]
  },
  {
   "cell_type": "code",
   "execution_count": 2,
   "id": "d2cffd9a-c1f8-4e91-af98-4fde99959c6f",
   "metadata": {},
   "outputs": [],
   "source": [
    "pdf_fold = Path.cwd() / \"Test PDFs\"\n",
    "library_output_fold = Path.cwd() / \"Test PDF's Library Extraction\""
   ]
  },
  {
   "cell_type": "markdown",
   "id": "f9aa1ef6-eb02-4bb7-a036-cf6b93ba0699",
   "metadata": {},
   "source": [
    "## PyPDF2"
   ]
  },
  {
   "cell_type": "code",
   "execution_count": 3,
   "id": "eec4ec45-bbde-4977-89ec-c40a20f1510a",
   "metadata": {},
   "outputs": [
    {
     "data": {
      "text/plain": [
       "\u001b[0;31mInit signature:\u001b[0m\n",
       "\u001b[0mPdfReader\u001b[0m\u001b[0;34m(\u001b[0m\u001b[0;34m\u001b[0m\n",
       "\u001b[0;34m\u001b[0m    \u001b[0mstream\u001b[0m\u001b[0;34m:\u001b[0m \u001b[0mUnion\u001b[0m\u001b[0;34m[\u001b[0m\u001b[0mstr\u001b[0m\u001b[0;34m,\u001b[0m \u001b[0mIO\u001b[0m\u001b[0;34m,\u001b[0m \u001b[0mpathlib\u001b[0m\u001b[0;34m.\u001b[0m\u001b[0m_local\u001b[0m\u001b[0;34m.\u001b[0m\u001b[0mPath\u001b[0m\u001b[0;34m]\u001b[0m\u001b[0;34m,\u001b[0m\u001b[0;34m\u001b[0m\n",
       "\u001b[0;34m\u001b[0m    \u001b[0mstrict\u001b[0m\u001b[0;34m:\u001b[0m \u001b[0mbool\u001b[0m \u001b[0;34m=\u001b[0m \u001b[0;32mFalse\u001b[0m\u001b[0;34m,\u001b[0m\u001b[0;34m\u001b[0m\n",
       "\u001b[0;34m\u001b[0m    \u001b[0mpassword\u001b[0m\u001b[0;34m:\u001b[0m \u001b[0mUnion\u001b[0m\u001b[0;34m[\u001b[0m\u001b[0mNoneType\u001b[0m\u001b[0;34m,\u001b[0m \u001b[0mstr\u001b[0m\u001b[0;34m,\u001b[0m \u001b[0mbytes\u001b[0m\u001b[0;34m]\u001b[0m \u001b[0;34m=\u001b[0m \u001b[0;32mNone\u001b[0m\u001b[0;34m,\u001b[0m\u001b[0;34m\u001b[0m\n",
       "\u001b[0;34m\u001b[0m\u001b[0;34m)\u001b[0m \u001b[0;34m->\u001b[0m \u001b[0;32mNone\u001b[0m\u001b[0;34m\u001b[0m\u001b[0;34m\u001b[0m\u001b[0m\n",
       "\u001b[0;31mDocstring:\u001b[0m     \n",
       "Initialize a PdfReader object.\n",
       "\n",
       "This operation can take some time, as the PDF stream's cross-reference\n",
       "tables are read into memory.\n",
       "\n",
       ":param stream: A File object or an object that supports the standard read\n",
       "    and seek methods similar to a File object. Could also be a\n",
       "    string representing a path to a PDF file.\n",
       ":param bool strict: Determines whether user should be warned of all\n",
       "    problems and also causes some correctable problems to be fatal.\n",
       "    Defaults to ``False``.\n",
       ":param None/str/bytes password: Decrypt PDF file at initialization. If the\n",
       "    password is None, the file will not be decrypted.\n",
       "    Defaults to ``None``\n",
       "\u001b[0;31mFile:\u001b[0m           /opt/anaconda3/envs/project_chitti/lib/python3.13/site-packages/PyPDF2/_reader.py\n",
       "\u001b[0;31mType:\u001b[0m           type\n",
       "\u001b[0;31mSubclasses:\u001b[0m     PdfFileReader"
      ]
     },
     "metadata": {},
     "output_type": "display_data"
    }
   ],
   "source": [
    "PdfReader?"
   ]
  },
  {
   "cell_type": "markdown",
   "id": "c72b7503-79ac-478a-840c-3779a23a67f5",
   "metadata": {},
   "source": [
    "### PDF 1"
   ]
  },
  {
   "cell_type": "code",
   "execution_count": 4,
   "id": "5781bfc5-657c-4441-988c-4e68818280d7",
   "metadata": {},
   "outputs": [],
   "source": [
    "PDF1 = pdf_fold / 'PDF1.pdf'"
   ]
  },
  {
   "cell_type": "code",
   "execution_count": 5,
   "id": "8c1a0752-ac82-4ef5-bd68-644a8636ed8d",
   "metadata": {},
   "outputs": [
    {
     "name": "stdout",
     "output_type": "stream",
     "text": [
      "Hi,\n",
      "my\n",
      "name\n",
      "is\n",
      "Prateek.\n",
      "This\n",
      "is\n",
      "PDF\n",
      "1\n",
      "that\n",
      "will\n",
      "be\n",
      "my\n",
      "initial\n",
      "test\n",
      "that\n",
      "the\n",
      "first\n",
      "Python\n",
      "Library\n",
      "will\n",
      "extract.\n",
      "Hope\n",
      "this\n",
      "works.\n",
      "The\n",
      "point\n",
      "of\n",
      "this\n",
      "test\n",
      "is\n",
      "to\n",
      "see\n",
      "what\n",
      "Python\n",
      "PDF\n",
      "Parsing\n",
      "library\n",
      "will\n",
      "for\n",
      "our\n",
      "use\n",
      "case.\n",
      "That’s\n",
      "it.\n"
     ]
    }
   ],
   "source": [
    "with open(PDF1) as file:\n",
    "    reader = PdfReader(PDF1)\n",
    "    page = reader.pages[0]\n",
    "    print(page.extract_text())\n"
   ]
  },
  {
   "attachments": {},
   "cell_type": "markdown",
   "id": "1b4add9e-e505-4f55-bb26-0503af79bcf9",
   "metadata": {},
   "source": [
    "#### Observations:\n",
    "1. By default, each word occupies it's own line.\n",
    "2. After first test, my first thought is that this is very hard to use for our use case"
   ]
  },
  {
   "cell_type": "markdown",
   "id": "e4f7afe0-22b2-46c1-80e5-5142edc7b695",
   "metadata": {},
   "source": [
    "---"
   ]
  },
  {
   "cell_type": "markdown",
   "id": "3372f122-4f0a-4cae-996e-50ad9f6da9cf",
   "metadata": {},
   "source": [
    "## Pymupdf"
   ]
  },
  {
   "cell_type": "markdown",
   "id": "2e05dc61-8395-4320-83c3-b6353ded945d",
   "metadata": {},
   "source": [
    "### PDF 1"
   ]
  },
  {
   "cell_type": "code",
   "execution_count": 13,
   "id": "e299d8cc-2189-4851-8303-ab16f738dad4",
   "metadata": {},
   "outputs": [],
   "source": [
    "doc = pymupdf.open(PDF1)\n",
    "#out = open(\"pdf1_output.txt\", \"wb\") # create a text output\n",
    "with open(library_output_fold / \"pdf1_pymupdf_output.txt\", \"wb\") as out:\n",
    "    for page in doc: # iterate the document pages\n",
    "        text = page.get_text().encode(\"utf8\") # get plain text (is in UTF-8)\n",
    "        out.write(text) # write text of page\n",
    "        out.write(bytes((12,))) # write page delimiter (form feed 0x0C)"
   ]
  },
  {
   "cell_type": "markdown",
   "id": "523d43a8-db53-4d81-b0f7-0c193cbb0d8b",
   "metadata": {},
   "source": [
    "#### Observations:\n",
    "1. To extract text, you have to create a new 'txt' file and store the contents extracted in that file(in this case, (output))\n",
    "2. Process to extract text seems much simpler using PyPdf2.\n",
    "3. Compared to PyPDf2, exctraction worked more effectively, because in the 'output.txt', the format of the text in my original PDF was kept."
   ]
  },
  {
   "cell_type": "markdown",
   "id": "48ed2276-aadf-4b05-85e3-9643f1e4cfb5",
   "metadata": {},
   "source": [
    "---"
   ]
  },
  {
   "cell_type": "markdown",
   "id": "061fe843-ca6a-4fc4-b142-0b59d9b1505a",
   "metadata": {},
   "source": [
    "## pdfminer.six"
   ]
  },
  {
   "cell_type": "markdown",
   "id": "8971445f-7ce1-4d28-ad15-3362b8f3a59b",
   "metadata": {},
   "source": [
    "### PDF 1"
   ]
  },
  {
   "cell_type": "code",
   "execution_count": 18,
   "id": "56c2924b-7706-4d44-8222-f8a481ce4e15",
   "metadata": {},
   "outputs": [
    {
     "ename": "TypeError",
     "evalue": "a bytes-like object is required, not 'str'",
     "output_type": "error",
     "traceback": [
      "\u001b[0;31m---------------------------------------------------------------------------\u001b[0m",
      "\u001b[0;31mTypeError\u001b[0m                                 Traceback (most recent call last)",
      "Cell \u001b[0;32mIn[18], line 3\u001b[0m\n\u001b[1;32m      1\u001b[0m text \u001b[38;5;241m=\u001b[39m extract_text(PDF1, codec\u001b[38;5;241m=\u001b[39m\u001b[38;5;124m'\u001b[39m\u001b[38;5;124mutf-8\u001b[39m\u001b[38;5;124m'\u001b[39m)\n\u001b[1;32m      2\u001b[0m \u001b[38;5;28;01mwith\u001b[39;00m \u001b[38;5;28mopen\u001b[39m(library_output_fold \u001b[38;5;241m/\u001b[39m \u001b[38;5;124m'\u001b[39m\u001b[38;5;124mpdf1_pdfminer_output.txt\u001b[39m\u001b[38;5;124m'\u001b[39m, \u001b[38;5;124m'\u001b[39m\u001b[38;5;124mwb\u001b[39m\u001b[38;5;124m'\u001b[39m) \u001b[38;5;28;01mas\u001b[39;00m out:\n\u001b[0;32m----> 3\u001b[0m     \u001b[43mout\u001b[49m\u001b[38;5;241;43m.\u001b[39;49m\u001b[43mwrite\u001b[49m\u001b[43m(\u001b[49m\u001b[43mtext\u001b[49m\u001b[43m)\u001b[49m\n\u001b[1;32m      4\u001b[0m     \u001b[38;5;66;03m#out.write(bytes((12,))) # write page delimiter (form feed 0x0C)\u001b[39;00m\n",
      "\u001b[0;31mTypeError\u001b[0m: a bytes-like object is required, not 'str'"
     ]
    }
   ],
   "source": [
    "text = extract_text(PDF1, codec='utf-8')\n",
    "with open(library_output_fold / 'pdf1_pdfminer_output.txt', 'wb') as out:\n",
    "    out.write(text)\n",
    "    #out.write(bytes((12,))) # write page delimiter (form feed 0x0C)"
   ]
  },
  {
   "cell_type": "markdown",
   "id": "071ccb54-7d1d-4ea9-99f4-f952b2ec8af4",
   "metadata": {},
   "source": [
    "#### Observations\n",
    "1. Much simpler than the last two; very intuitive\n",
    "2. Like PyMuPdf, it keeps the original format as in the PDF; unlike PuMuPdf, instead of having to save it to a seperate text file, pdfminer just shows what the output is with a print statement"
   ]
  },
  {
   "cell_type": "markdown",
   "id": "85cbcf51-2bc7-48ba-b4e2-fe2914551a38",
   "metadata": {},
   "source": [
    "---"
   ]
  },
  {
   "cell_type": "code",
   "execution_count": null,
   "id": "605e7cc8-c998-4551-bfad-5222445dde3f",
   "metadata": {},
   "outputs": [],
   "source": []
  }
 ],
 "metadata": {
  "kernelspec": {
   "display_name": "Python 3 (ipykernel)",
   "language": "python",
   "name": "python3"
  },
  "language_info": {
   "codemirror_mode": {
    "name": "ipython",
    "version": 3
   },
   "file_extension": ".py",
   "mimetype": "text/x-python",
   "name": "python",
   "nbconvert_exporter": "python",
   "pygments_lexer": "ipython3",
   "version": "3.13.0"
  }
 },
 "nbformat": 4,
 "nbformat_minor": 5
}
