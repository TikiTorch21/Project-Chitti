{
 "cells": [
  {
   "cell_type": "markdown",
   "id": "3712f19c-7f91-49e7-9904-8d99c30662a9",
   "metadata": {},
   "source": [
    "# PDF Parsing Libraries"
   ]
  },
  {
   "cell_type": "code",
   "execution_count": 19,
   "id": "c28c67a9-4941-44d0-b3b5-736ba9a25606",
   "metadata": {},
   "outputs": [],
   "source": [
    "from thefuzz import fuzz\n",
    "from pathlib import Path\n",
    "from pypdf import PdfReader\n",
    "from pdfminer.high_level import extract_text\n",
    "from pdfminer.pdfdocument import PDFDocument\n",
    "from pdfminer.pdfparser import PDFParser\n",
    "from pdfminer.pdftypes import resolve1\n",
    "import pymupdf\n",
    "import pandas as pd\n",
    "import numpy as np\n",
    "import time"
   ]
  },
  {
   "cell_type": "code",
   "execution_count": 7,
   "id": "39a82660",
   "metadata": {},
   "outputs": [],
   "source": [
    "PDF_FILES_PATH = Path.cwd() / '../../data/raw/test pdfs'\n",
    "LIBRARY_OUTPUT = Path.cwd() / '../../data/text extractions'\n",
    "MANUAL_PDF = Path.cwd() / '../../data/raw/ground truth'"
   ]
  },
  {
   "cell_type": "markdown",
   "id": "d8672c88",
   "metadata": {},
   "source": [
    "### Functions Testing"
   ]
  },
  {
   "cell_type": "code",
   "execution_count": 62,
   "id": "cbb2fa76",
   "metadata": {},
   "outputs": [],
   "source": [
    "def pypdf_txt_extraction(file_path: Path) -> dict[str, str]:\n",
    "    \"\"\"\n",
    "    Helper function to extract text from a pdf using pypdf page-wise.\n",
    "\n",
    "    Args:\n",
    "        file_path: Path of the pdf file\n",
    "\n",
    "    Returns:\n",
    "        dict: key: page number, value: page text\n",
    "    \"\"\"\n",
    "    pdf_dict = {}\n",
    "    file = PdfReader(file_path)\n",
    "    time_list = []\n",
    "    for page_num in range(len(file.pages)):\n",
    "        key = f'{str(file_path).split('/')[-1]} ~ {page_num}'\n",
    "        start = time.time()\n",
    "        extracted_txt = file.pages[page_num].extract_text()\n",
    "        end = time.time()\n",
    "        pdf_dict[key] = extracted_txt\n",
    "        time_list.append(end-start)\n",
    "    return pdf_dict, time_list"
   ]
  },
  {
   "cell_type": "code",
   "execution_count": 63,
   "id": "09ca7af0",
   "metadata": {},
   "outputs": [],
   "source": [
    "def pymupdf_txt_extraction(file_path: Path) -> dict[str, str]:\n",
    "    \"\"\"\n",
    "    Helper function to extract text from a pdf using pymupdf page-wise.\n",
    "\n",
    "    Args:\n",
    "        file_path: Path of the pdf file\n",
    "\n",
    "    Returns:\n",
    "        dict: key: page number, value: page text\n",
    "    \"\"\"\n",
    "    file = pymupdf.open(file_path)\n",
    "    pdf_dict = {}\n",
    "    time_list = []\n",
    "    for page_num in range(file.page_count):\n",
    "        start = time.time()\n",
    "        text = file[page_num].get_text()\n",
    "        end = time.time()\n",
    "        pdf_dict[f'{str(file_path).split('/')[-1]} ~ {page_num}'] = text\n",
    "        time_list.append(end-start)\n",
    "    return pdf_dict, time_list"
   ]
  },
  {
   "cell_type": "code",
   "execution_count": 58,
   "id": "579ef9c1",
   "metadata": {},
   "outputs": [],
   "source": [
    "def pdfminersix_txt_extraction(file_path: Path) -> dict[str, str]:\n",
    "    \"\"\"\n",
    "    Helper function to extract text from a pdf using pdfminer.six page-wise.\n",
    "\n",
    "    Args:\n",
    "        file_path: Path of the pdf file\n",
    "\n",
    "    Returns:\n",
    "        dict: key: page number, value: page text\n",
    "    \"\"\"\n",
    "    pdf_dict = {}\n",
    "    time_list = []\n",
    "    with open(file_path, 'rb') as f:\n",
    "        parser = PDFParser(f)\n",
    "        doc = PDFDocument(parser)\n",
    "        parser.set_document(doc)\n",
    "        pages = resolve1(doc.catalog['Pages'])\n",
    "        pages_count = pages.get('Count', 0)\n",
    "    for page_num in range(pages_count):\n",
    "        start = time.time()\n",
    "        text = extract_text(file_path, page_numbers=[page_num])\n",
    "        end = time.time()\n",
    "        pdf_dict[f'{str(file_path).split('/')[-1]} ~ {page_num}'] = text\n",
    "        time_list.append(end-start)\n",
    "    return pdf_dict, time_list"
   ]
  },
  {
   "cell_type": "code",
   "execution_count": 64,
   "id": "e82c2f52",
   "metadata": {},
   "outputs": [],
   "source": [
    "pypdf_output = pypdf_txt_extraction(PDF_FILES_PATH / 'chess_pdf.pdf')\n",
    "pymupdf_output = pymupdf_txt_extraction(PDF_FILES_PATH / 'chess_pdf.pdf')\n",
    "pdfminer_output = pdfminersix_txt_extraction(PDF_FILES_PATH / 'chess_pdf.pdf')"
   ]
  },
  {
   "cell_type": "code",
   "execution_count": 65,
   "id": "1905f180",
   "metadata": {},
   "outputs": [
    {
     "data": {
      "text/html": [
       "<div>\n",
       "<style scoped>\n",
       "    .dataframe tbody tr th:only-of-type {\n",
       "        vertical-align: middle;\n",
       "    }\n",
       "\n",
       "    .dataframe tbody tr th {\n",
       "        vertical-align: top;\n",
       "    }\n",
       "\n",
       "    .dataframe thead th {\n",
       "        text-align: right;\n",
       "    }\n",
       "</style>\n",
       "<table border=\"1\" class=\"dataframe\">\n",
       "  <thead>\n",
       "    <tr style=\"text-align: right;\">\n",
       "      <th></th>\n",
       "      <th>PDF_ID</th>\n",
       "      <th>pypdf_txt</th>\n",
       "      <th>pymupdf_txt</th>\n",
       "      <th>pdfminersix_text</th>\n",
       "      <th>pypdf_time</th>\n",
       "      <th>pymupdf_time</th>\n",
       "      <th>pdfminersix_time</th>\n",
       "    </tr>\n",
       "  </thead>\n",
       "  <tbody>\n",
       "    <tr>\n",
       "      <th>0</th>\n",
       "      <td>chess_pdf.pdf ~ 0</td>\n",
       "      <td>Author: Prateek   \\n \\n  1 \\n \\n \\n       Chec...</td>\n",
       "      <td>Author: Prateek \\n \\n \\n \\n1\\n \\n \\n  Checkmat...</td>\n",
       "      <td>Author: Prateek \\n\\n       Checkmate Through T...</td>\n",
       "      <td>0.034179</td>\n",
       "      <td>0.060958</td>\n",
       "      <td>0.054039</td>\n",
       "    </tr>\n",
       "    <tr>\n",
       "      <th>1</th>\n",
       "      <td>chess_pdf.pdf ~ 1</td>\n",
       "      <td>Author: Prateek   \\n \\n  2 \\n \\nChess, the gam...</td>\n",
       "      <td>Author: Prateek \\n \\n \\n \\n2\\n \\nChess, the ga...</td>\n",
       "      <td>Author: Prateek \\n\\nChess, the game of kings a...</td>\n",
       "      <td>0.030468</td>\n",
       "      <td>0.005449</td>\n",
       "      <td>0.023171</td>\n",
       "    </tr>\n",
       "    <tr>\n",
       "      <th>2</th>\n",
       "      <td>chess_pdf.pdf ~ 2</td>\n",
       "      <td>Author: Prateek   \\n \\n  3 \\n \\nThe Birth of C...</td>\n",
       "      <td>Author: Prateek \\n \\n \\n \\n3\\n \\nThe Birth of ...</td>\n",
       "      <td>Author: Prateek \\n\\nThe Birth of Competitive C...</td>\n",
       "      <td>0.013944</td>\n",
       "      <td>0.003093</td>\n",
       "      <td>0.020734</td>\n",
       "    </tr>\n",
       "  </tbody>\n",
       "</table>\n",
       "</div>"
      ],
      "text/plain": [
       "              PDF_ID                                          pypdf_txt  \\\n",
       "0  chess_pdf.pdf ~ 0  Author: Prateek   \\n \\n  1 \\n \\n \\n       Chec...   \n",
       "1  chess_pdf.pdf ~ 1  Author: Prateek   \\n \\n  2 \\n \\nChess, the gam...   \n",
       "2  chess_pdf.pdf ~ 2  Author: Prateek   \\n \\n  3 \\n \\nThe Birth of C...   \n",
       "\n",
       "                                         pymupdf_txt  \\\n",
       "0  Author: Prateek \\n \\n \\n \\n1\\n \\n \\n  Checkmat...   \n",
       "1  Author: Prateek \\n \\n \\n \\n2\\n \\nChess, the ga...   \n",
       "2  Author: Prateek \\n \\n \\n \\n3\\n \\nThe Birth of ...   \n",
       "\n",
       "                                    pdfminersix_text  pypdf_time  \\\n",
       "0  Author: Prateek \\n\\n       Checkmate Through T...    0.034179   \n",
       "1  Author: Prateek \\n\\nChess, the game of kings a...    0.030468   \n",
       "2  Author: Prateek \\n\\nThe Birth of Competitive C...    0.013944   \n",
       "\n",
       "   pymupdf_time  pdfminersix_time  \n",
       "0      0.060958          0.054039  \n",
       "1      0.005449          0.023171  \n",
       "2      0.003093          0.020734  "
      ]
     },
     "execution_count": 65,
     "metadata": {},
     "output_type": "execute_result"
    }
   ],
   "source": [
    "pdf_df = pd.DataFrame({'PDF_ID': list(pypdf_output[0].keys())})\n",
    "pdf_df['pypdf_txt'] = list((pypdf_output[0]).values())\n",
    "pdf_df['pymupdf_txt'] = list((pymupdf_output[0]).values())\n",
    "pdf_df['pdfminersix_text'] = list((pdfminer_output[0]).values())\n",
    "pdf_df['pypdf_time'] = list(pypdf_output[1])\n",
    "pdf_df['pymupdf_time'] = list(pymupdf_output[1])\n",
    "pdf_df['pdfminersix_time'] = list(pdfminer_output[1])\n",
    "pdf_df"
   ]
  },
  {
   "cell_type": "markdown",
   "id": "a7226fb3",
   "metadata": {},
   "source": [
    "---"
   ]
  }
 ],
 "metadata": {
  "kernelspec": {
   "display_name": "Python 3 (ipykernel)",
   "language": "python",
   "name": "python3"
  },
  "language_info": {
   "codemirror_mode": {
    "name": "ipython",
    "version": 3
   },
   "file_extension": ".py",
   "mimetype": "text/x-python",
   "name": "python",
   "nbconvert_exporter": "python",
   "pygments_lexer": "ipython3",
   "version": "3.13.0"
  }
 },
 "nbformat": 4,
 "nbformat_minor": 5
}
