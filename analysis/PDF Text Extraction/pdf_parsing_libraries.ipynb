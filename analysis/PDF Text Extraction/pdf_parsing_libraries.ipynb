{
 "cells": [
  {
   "cell_type": "markdown",
   "id": "3712f19c-7f91-49e7-9904-8d99c30662a9",
   "metadata": {},
   "source": [
    "# PDF Parsing Libraries"
   ]
  },
  {
   "cell_type": "code",
   "execution_count": 54,
   "id": "c28c67a9-4941-44d0-b3b5-736ba9a25606",
   "metadata": {},
   "outputs": [],
   "source": [
    "from thefuzz import fuzz\n",
    "from pathlib import Path\n",
    "from pypdf import PdfReader\n",
    "from pdfminer.high_level import extract_text\n",
    "from pdfminer.pdfdocument import PDFDocument\n",
    "from pdfminer.pdfparser import PDFParser\n",
    "from pdfminer.pdftypes import resolve1\n",
    "import pymupdf\n",
    "import pandas as pd\n",
    "import numpy as np"
   ]
  },
  {
   "cell_type": "code",
   "execution_count": 2,
   "id": "39a82660",
   "metadata": {},
   "outputs": [],
   "source": [
    "PDF_FILES_PATH = Path.cwd() / '../../data/raw'\n",
    "LIBRARY_OUTPUT = Path.cwd() / '../../data/text extractions'\n",
    "MANUAL_PDF = Path.cwd() / '../../data/raw/ground truth'"
   ]
  },
  {
   "cell_type": "markdown",
   "id": "f9aa1ef6-eb02-4bb7-a036-cf6b93ba0699",
   "metadata": {},
   "source": [
    "## PyPDF"
   ]
  },
  {
   "cell_type": "markdown",
   "id": "c72b7503-79ac-478a-840c-3779a23a67f5",
   "metadata": {},
   "source": [
    "### PDF 1"
   ]
  },
  {
   "cell_type": "markdown",
   "id": "d16d7f0f-3b73-431b-b036-19d117e47071",
   "metadata": {},
   "source": [
    "#### Text Extraction"
   ]
  },
  {
   "cell_type": "code",
   "execution_count": 10,
   "id": "8c1a0752-ac82-4ef5-bd68-644a8636ed8d",
   "metadata": {},
   "outputs": [],
   "source": [
    "#doc = pymupdf.open(PDF_FILES_PATH / 'PDF1.pdf')\n",
    "with open(LIBRARY_OUTPUT / \"pdf1_pypdf_output.txt\", \"w\") as out:\n",
    "    reader = PdfReader(PDF_FILES_PATH / 'chess_pdf.pdf')\n",
    "    number_of_pages = len(reader.pages)\n",
    "    page = reader.pages[0]\n",
    "    out.write(page.extract_text()) # write text of page"
   ]
  },
  {
   "cell_type": "code",
   "execution_count": 6,
   "id": "af4cce41-3a80-42f4-afca-57f9224aff43",
   "metadata": {},
   "outputs": [],
   "source": [
    "reader = PdfReader(PDF_FILES_PATH / 'PDF1.pdf')\n",
    "number_of_pages = len(reader.pages)\n",
    "page = reader.pages[0]\n",
    "text = page.extract_text()"
   ]
  },
  {
   "attachments": {},
   "cell_type": "markdown",
   "id": "1b4add9e-e505-4f55-bb26-0503af79bcf9",
   "metadata": {},
   "source": [
    "Observations:\n",
    "1. Overall maintained it's general format(paragraphs)\n",
    "2. In the pdf, there was a space line between 2 lines; the library didn't implement this. \n",
    "3. Lot of commands and operations to do just to extract text from a pdf."
   ]
  },
  {
   "cell_type": "markdown",
   "id": "24395ea9",
   "metadata": {},
   "source": [
    "#### Similarity Ratio"
   ]
  },
  {
   "cell_type": "code",
   "execution_count": 8,
   "id": "2fa1b0cd-42b1-4cca-8e75-20fecdef831b",
   "metadata": {},
   "outputs": [],
   "source": [
    "with open(MANUAL_PDF / 'pdf1_manual.txt') as orig_file:\n",
    "    original_txt = orig_file.read()\n",
    "with open(LIBRARY_OUTPUT / 'pdf1_pypdf_output.txt') as lib_file:\n",
    "    lib_text = lib_file.read()"
   ]
  },
  {
   "cell_type": "code",
   "execution_count": 9,
   "id": "bf3d4263-7e9d-4d5f-b7a9-46d609e8dfe7",
   "metadata": {},
   "outputs": [
    {
     "data": {
      "text/plain": [
       "90"
      ]
     },
     "execution_count": 9,
     "metadata": {},
     "output_type": "execute_result"
    }
   ],
   "source": [
    "fuzz.ratio(original_txt, lib_text)          # Similarity ratio for pypdf - out of 100."
   ]
  },
  {
   "cell_type": "markdown",
   "id": "b959ae03",
   "metadata": {},
   "source": [
    "This library is fairly accurate; however, it is relatively complicated to use -- it's a lot of code just to extract text from a pdf. "
   ]
  },
  {
   "cell_type": "markdown",
   "id": "e4f7afe0-22b2-46c1-80e5-5142edc7b695",
   "metadata": {},
   "source": [
    "---"
   ]
  },
  {
   "cell_type": "markdown",
   "id": "3372f122-4f0a-4cae-996e-50ad9f6da9cf",
   "metadata": {},
   "source": [
    "## Pymupdf"
   ]
  },
  {
   "cell_type": "markdown",
   "id": "2e05dc61-8395-4320-83c3-b6353ded945d",
   "metadata": {},
   "source": [
    "### PDF 1"
   ]
  },
  {
   "cell_type": "markdown",
   "id": "58e513d0-303a-4e8d-ba30-3ed2e3405641",
   "metadata": {},
   "source": [
    "#### Text Extraction"
   ]
  },
  {
   "cell_type": "code",
   "execution_count": 17,
   "id": "e299d8cc-2189-4851-8303-ab16f738dad4",
   "metadata": {},
   "outputs": [],
   "source": [
    "doc = pymupdf.open(PDF_FILES_PATH / 'PDF1.pdf')\n",
    "#out = open(\"pdf1_output.txt\", \"wb\") # create a text output\n",
    "with open(LIBRARY_OUTPUT / \"pdf1_pymupdf_output.txt\", \"w\") as out:\n",
    "    for page in doc: # iterate the document pages\n",
    "        text = page.get_text(sort=True) # get plain text (is in UTF-8)\n",
    "        out.write(text) # write text of page"
   ]
  },
  {
   "cell_type": "markdown",
   "id": "523d43a8-db53-4d81-b0f7-0c193cbb0d8b",
   "metadata": {},
   "source": [
    "Observations:\n",
    "1. Process to extract text seems relatively simpler than using pypdf.\n",
    "2. Same problem as pypdf, didn't register the space line between the two lines."
   ]
  },
  {
   "cell_type": "markdown",
   "id": "94a95902-bfaa-4fa2-89d5-eeef3ff80599",
   "metadata": {},
   "source": [
    "#### Similarity Ratio"
   ]
  },
  {
   "cell_type": "code",
   "execution_count": 12,
   "id": "095e4e22-3296-4c17-b9b3-775dbda674a8",
   "metadata": {},
   "outputs": [],
   "source": [
    "with open(MANUAL_PDF / 'pdf1_manual.txt') as orig_file:\n",
    "    original_txt = orig_file.read()\n",
    "with open(LIBRARY_OUTPUT / 'pdf1_pymupdf_output.txt') as lib_file:\n",
    "    lib_text = lib_file.read()"
   ]
  },
  {
   "cell_type": "code",
   "execution_count": 13,
   "id": "c05dc9ca-e178-448c-ab7a-aa60b1db8e94",
   "metadata": {},
   "outputs": [
    {
     "data": {
      "text/plain": [
       "97"
      ]
     },
     "execution_count": 13,
     "metadata": {},
     "output_type": "execute_result"
    }
   ],
   "source": [
    "fuzz.ratio(original_txt, lib_text)"
   ]
  },
  {
   "cell_type": "markdown",
   "id": "48ed2276-aadf-4b05-85e3-9643f1e4cfb5",
   "metadata": {},
   "source": [
    "---"
   ]
  },
  {
   "cell_type": "markdown",
   "id": "061fe843-ca6a-4fc4-b142-0b59d9b1505a",
   "metadata": {},
   "source": [
    "## pdfminer.six"
   ]
  },
  {
   "cell_type": "markdown",
   "id": "8971445f-7ce1-4d28-ad15-3362b8f3a59b",
   "metadata": {},
   "source": [
    "### PDF 1"
   ]
  },
  {
   "cell_type": "markdown",
   "id": "68d1b79c",
   "metadata": {},
   "source": [
    "#### Text Extraction"
   ]
  },
  {
   "cell_type": "code",
   "execution_count": 14,
   "id": "770ecefc-8e12-420e-a6dd-c878f54f5aa4",
   "metadata": {},
   "outputs": [],
   "source": [
    "text = extract_text(PDF_FILES_PATH / 'PDF1.pdf', codec='utf-8')\n",
    "with open(LIBRARY_OUTPUT / 'pdf1_pdfminer_output.txt', 'w') as out:\n",
    "    out.write(text)"
   ]
  },
  {
   "cell_type": "markdown",
   "id": "071ccb54-7d1d-4ea9-99f4-f952b2ec8af4",
   "metadata": {},
   "source": [
    "#### Observations\n",
    "1. Much simpler than the last two; very intuitive\n",
    "2. Unlike the other two, this library registed the space line added between the two lines, and added it in the txt file created."
   ]
  },
  {
   "cell_type": "markdown",
   "id": "6d865c67-535a-4a53-912c-f3b97dceabd7",
   "metadata": {},
   "source": [
    "#### Similarity Ratio"
   ]
  },
  {
   "cell_type": "code",
   "execution_count": 15,
   "id": "27ab01e5-35b3-4e1e-b39f-f9195e21b17f",
   "metadata": {},
   "outputs": [],
   "source": [
    "with open(MANUAL_PDF / 'pdf1_manual.txt') as orig_file:\n",
    "    original_txt = orig_file.read()\n",
    "with open(LIBRARY_OUTPUT / 'pdf1_pdfminer_output.txt') as lib_file:\n",
    "    lib_text = lib_file.read()"
   ]
  },
  {
   "cell_type": "code",
   "execution_count": 16,
   "id": "99fc705e-be20-49ce-a461-444d811e233d",
   "metadata": {},
   "outputs": [
    {
     "data": {
      "text/plain": [
       "97"
      ]
     },
     "execution_count": 16,
     "metadata": {},
     "output_type": "execute_result"
    }
   ],
   "source": [
    "fuzz.ratio(original_txt, lib_text)          # Similarity ratio for pypdf - out of 100."
   ]
  },
  {
   "cell_type": "markdown",
   "id": "85cbcf51-2bc7-48ba-b4e2-fe2914551a38",
   "metadata": {},
   "source": [
    "---"
   ]
  },
  {
   "cell_type": "code",
   "execution_count": 48,
   "id": "cbb2fa76",
   "metadata": {},
   "outputs": [],
   "source": [
    "def pypdf_txt_extraction(file_path: Path) -> dict[str, str]:\n",
    "    \"\"\"\n",
    "    Helper function to extract text from a pdf using pypdf page-wise.\n",
    "\n",
    "    Args:\n",
    "        file_path: Path of the pdf file\n",
    "\n",
    "    Returns:\n",
    "        dict: key: page number, value: page text\n",
    "    \"\"\"\n",
    "    pdf_dict = {}\n",
    "    file = PdfReader(file_path)\n",
    "    for page_num in range(len(file.pages)):\n",
    "        pdf_dict[f'{str(test_pdf).split('/')[-1]} ~ {page_num}'] = file.pages[page_num].extract_text()\n",
    "    return pdf_dict"
   ]
  },
  {
   "cell_type": "code",
   "execution_count": 49,
   "id": "09ca7af0",
   "metadata": {},
   "outputs": [],
   "source": [
    "def pymupdf_txt_extraction(file_path: Path) -> dict[str, str]:\n",
    "    \"\"\"\n",
    "    Helper function to extract text from a pdf using pymupdf page-wise.\n",
    "\n",
    "    Args:\n",
    "        file_path: Path of the pdf file\n",
    "\n",
    "    Returns:\n",
    "        dict: key: page number, value: page text\n",
    "    \"\"\"\n",
    "    file = pymupdf.open(file_path)\n",
    "    pdf_dict = {}\n",
    "    for page_num in range(file.page_count):\n",
    "        text = file[page_num].get_text()\n",
    "        pdf_dict[f'{str(file_path).split('/')[-1]} ~ {page_num}'] = text\n",
    "    return pdf_dict"
   ]
  },
  {
   "cell_type": "code",
   "execution_count": 82,
   "id": "579ef9c1",
   "metadata": {},
   "outputs": [],
   "source": [
    "def pdfminersix_txt_extraction(file_path: Path) -> dict[str, str]:\n",
    "    \"\"\"\n",
    "    Helper function to extract text from a pdf using pdfminer.six page-wise.\n",
    "\n",
    "    Args:\n",
    "        file_path: Path of the pdf file\n",
    "\n",
    "    Returns:\n",
    "        dict: key: page number, value: page text\n",
    "    \"\"\"\n",
    "    pdf_dict = {}\n",
    "    with open(test_path, 'rb') as f:\n",
    "        parser = PDFParser(f)\n",
    "        doc = PDFDocument(parser)\n",
    "        parser.set_document(doc)\n",
    "        pages = resolve1(doc.catalog['Pages'])\n",
    "        pages_count = pages.get('Count', 0)\n",
    "    for page_num in range(pages_count+1):\n",
    "        text = extract_text(file_path, page_numbers=[page_num])\n",
    "        pdf_dict[f'{str(file_path).split('/')[-1]} ~ {page_num}'] = text\n",
    "    return pdf_dict"
   ]
  },
  {
   "cell_type": "code",
   "execution_count": 89,
   "id": "b91ec424",
   "metadata": {},
   "outputs": [],
   "source": [
    "def pdf_dataframe(pypdf_dict: dict, pymupdf_dict: dict, pdfminersix_dict: dict) -> pd.DataFrame:\n",
    "    pdf_df = pd.DataFrame({'PDF_ID': list(pypdf_dict.keys())})\n",
    "    pdf_df['pypdf_txt'] = list(pypdf_dict.values())\n",
    "    pdf_df['pymupdf_txt'] = list(pymupdf_dict.values())\n",
    "    pdf_df['pdfminersix_text'] = list(pdfminersix_dict.values())\n",
    "    return pdf_df"
   ]
  },
  {
   "cell_type": "code",
   "execution_count": 90,
   "id": "690dfcbf",
   "metadata": {},
   "outputs": [
    {
     "data": {
      "text/html": [
       "<div>\n",
       "<style scoped>\n",
       "    .dataframe tbody tr th:only-of-type {\n",
       "        vertical-align: middle;\n",
       "    }\n",
       "\n",
       "    .dataframe tbody tr th {\n",
       "        vertical-align: top;\n",
       "    }\n",
       "\n",
       "    .dataframe thead th {\n",
       "        text-align: right;\n",
       "    }\n",
       "</style>\n",
       "<table border=\"1\" class=\"dataframe\">\n",
       "  <thead>\n",
       "    <tr style=\"text-align: right;\">\n",
       "      <th></th>\n",
       "      <th>PDF_ID</th>\n",
       "      <th>pypdf_txt</th>\n",
       "      <th>pymupdf_txt</th>\n",
       "      <th>pdfminersix_text</th>\n",
       "    </tr>\n",
       "  </thead>\n",
       "  <tbody>\n",
       "    <tr>\n",
       "      <th>0</th>\n",
       "      <td>chess_pdf.pdf ~ 0</td>\n",
       "      <td>TheGlobal Game: Basketball'sUnifyingPower inth...</td>\n",
       "      <td>The Global Game: Basketball's Unifying\\nPower ...</td>\n",
       "      <td>The Global Game: Basketball's Unifying\\nPower ...</td>\n",
       "    </tr>\n",
       "    <tr>\n",
       "      <th>1</th>\n",
       "      <td>chess_pdf.pdf ~ 1</td>\n",
       "      <td>FromPeachBasketstoGlobalPhenomenon\\nThestorybe...</td>\n",
       "      <td>From Peach Baskets to Global Phenomenon\\nThe s...</td>\n",
       "      <td>From Peach Baskets to Global Phenomenon\\n\\nThe...</td>\n",
       "    </tr>\n",
       "    <tr>\n",
       "      <th>2</th>\n",
       "      <td>chess_pdf.pdf ~ 2</td>\n",
       "      <td>TheEconomicSlamDunk\\nBasketball'seconomicimpac...</td>\n",
       "      <td>The Economic Slam Dunk\\nBasketball's economic ...</td>\n",
       "      <td>The Economic Slam Dunk\\n\\nBasketball's economi...</td>\n",
       "    </tr>\n",
       "    <tr>\n",
       "      <th>3</th>\n",
       "      <td>chess_pdf.pdf ~ 3</td>\n",
       "      <td>UrbanRenaissanceThroughBasketball\\nThesport'si...</td>\n",
       "      <td>Urban Renaissance Through Basketball\\nThe spor...</td>\n",
       "      <td>Urban Renaissance Through Basketball\\n\\nThe sp...</td>\n",
       "    </tr>\n",
       "  </tbody>\n",
       "</table>\n",
       "</div>"
      ],
      "text/plain": [
       "              PDF_ID                                          pypdf_txt  \\\n",
       "0  chess_pdf.pdf ~ 0  TheGlobal Game: Basketball'sUnifyingPower inth...   \n",
       "1  chess_pdf.pdf ~ 1  FromPeachBasketstoGlobalPhenomenon\\nThestorybe...   \n",
       "2  chess_pdf.pdf ~ 2  TheEconomicSlamDunk\\nBasketball'seconomicimpac...   \n",
       "3  chess_pdf.pdf ~ 3  UrbanRenaissanceThroughBasketball\\nThesport'si...   \n",
       "\n",
       "                                         pymupdf_txt  \\\n",
       "0  The Global Game: Basketball's Unifying\\nPower ...   \n",
       "1  From Peach Baskets to Global Phenomenon\\nThe s...   \n",
       "2  The Economic Slam Dunk\\nBasketball's economic ...   \n",
       "3  Urban Renaissance Through Basketball\\nThe spor...   \n",
       "\n",
       "                                    pdfminersix_text  \n",
       "0  The Global Game: Basketball's Unifying\\nPower ...  \n",
       "1  From Peach Baskets to Global Phenomenon\\n\\nThe...  \n",
       "2  The Economic Slam Dunk\\n\\nBasketball's economi...  \n",
       "3  Urban Renaissance Through Basketball\\n\\nThe sp...  "
      ]
     },
     "execution_count": 90,
     "metadata": {},
     "output_type": "execute_result"
    }
   ],
   "source": [
    "pdf_dataframe(pypdf_dict=pypdf_dict, pymupdf_dict=pymupdf_dict, pdfminersix_dict=pdfminersix_dict)"
   ]
  },
  {
   "cell_type": "code",
   "execution_count": 68,
   "id": "61350632",
   "metadata": {},
   "outputs": [],
   "source": [
    "pypdf_dict = pypdf_txt_extraction(PDF_FILES_PATH / 'basketball_pdf.pdf')\n",
    "pdf_df = pd.DataFrame({'PDF_ID': list(pypdf_dict.keys())})\n",
    "pdf_df['pypdf_txt'] = list(pypdf_dict.values())"
   ]
  },
  {
   "cell_type": "code",
   "execution_count": 69,
   "id": "ed64d957",
   "metadata": {},
   "outputs": [
    {
     "data": {
      "text/html": [
       "<div>\n",
       "<style scoped>\n",
       "    .dataframe tbody tr th:only-of-type {\n",
       "        vertical-align: middle;\n",
       "    }\n",
       "\n",
       "    .dataframe tbody tr th {\n",
       "        vertical-align: top;\n",
       "    }\n",
       "\n",
       "    .dataframe thead th {\n",
       "        text-align: right;\n",
       "    }\n",
       "</style>\n",
       "<table border=\"1\" class=\"dataframe\">\n",
       "  <thead>\n",
       "    <tr style=\"text-align: right;\">\n",
       "      <th></th>\n",
       "      <th>PDF_ID</th>\n",
       "      <th>pypdf_txt</th>\n",
       "    </tr>\n",
       "  </thead>\n",
       "  <tbody>\n",
       "    <tr>\n",
       "      <th>0</th>\n",
       "      <td>chess_pdf.pdf ~ 0</td>\n",
       "      <td>TheGlobal Game: Basketball'sUnifyingPower inth...</td>\n",
       "    </tr>\n",
       "    <tr>\n",
       "      <th>1</th>\n",
       "      <td>chess_pdf.pdf ~ 1</td>\n",
       "      <td>FromPeachBasketstoGlobalPhenomenon\\nThestorybe...</td>\n",
       "    </tr>\n",
       "    <tr>\n",
       "      <th>2</th>\n",
       "      <td>chess_pdf.pdf ~ 2</td>\n",
       "      <td>TheEconomicSlamDunk\\nBasketball'seconomicimpac...</td>\n",
       "    </tr>\n",
       "    <tr>\n",
       "      <th>3</th>\n",
       "      <td>chess_pdf.pdf ~ 3</td>\n",
       "      <td>UrbanRenaissanceThroughBasketball\\nThesport'si...</td>\n",
       "    </tr>\n",
       "  </tbody>\n",
       "</table>\n",
       "</div>"
      ],
      "text/plain": [
       "              PDF_ID                                          pypdf_txt\n",
       "0  chess_pdf.pdf ~ 0  TheGlobal Game: Basketball'sUnifyingPower inth...\n",
       "1  chess_pdf.pdf ~ 1  FromPeachBasketstoGlobalPhenomenon\\nThestorybe...\n",
       "2  chess_pdf.pdf ~ 2  TheEconomicSlamDunk\\nBasketball'seconomicimpac...\n",
       "3  chess_pdf.pdf ~ 3  UrbanRenaissanceThroughBasketball\\nThesport'si..."
      ]
     },
     "execution_count": 69,
     "metadata": {},
     "output_type": "execute_result"
    }
   ],
   "source": [
    "pdf_df"
   ]
  },
  {
   "cell_type": "code",
   "execution_count": 75,
   "id": "e22c6895",
   "metadata": {},
   "outputs": [],
   "source": [
    "pymupdf_dict = pymupdf_txt_extraction(PDF_FILES_PATH / 'basketball_pdf.pdf')\n",
    "#pdf_df['PDF_ID'] = list(pymupdf_dict.keys())\n",
    "pdf_df['pymupdf_txt'] = list(pymupdf_dict.values())"
   ]
  },
  {
   "cell_type": "code",
   "execution_count": 76,
   "id": "0cdb2ca0",
   "metadata": {},
   "outputs": [
    {
     "data": {
      "text/html": [
       "<div>\n",
       "<style scoped>\n",
       "    .dataframe tbody tr th:only-of-type {\n",
       "        vertical-align: middle;\n",
       "    }\n",
       "\n",
       "    .dataframe tbody tr th {\n",
       "        vertical-align: top;\n",
       "    }\n",
       "\n",
       "    .dataframe thead th {\n",
       "        text-align: right;\n",
       "    }\n",
       "</style>\n",
       "<table border=\"1\" class=\"dataframe\">\n",
       "  <thead>\n",
       "    <tr style=\"text-align: right;\">\n",
       "      <th></th>\n",
       "      <th>PDF_ID</th>\n",
       "      <th>pypdf_txt</th>\n",
       "      <th>pymupdf_txt</th>\n",
       "    </tr>\n",
       "  </thead>\n",
       "  <tbody>\n",
       "    <tr>\n",
       "      <th>0</th>\n",
       "      <td>basketball_pdf.pdf ~ 0</td>\n",
       "      <td>TheGlobal Game: Basketball'sUnifyingPower inth...</td>\n",
       "      <td>The Global Game: Basketball's Unifying\\nPower ...</td>\n",
       "    </tr>\n",
       "    <tr>\n",
       "      <th>1</th>\n",
       "      <td>basketball_pdf.pdf ~ 1</td>\n",
       "      <td>FromPeachBasketstoGlobalPhenomenon\\nThestorybe...</td>\n",
       "      <td>From Peach Baskets to Global Phenomenon\\nThe s...</td>\n",
       "    </tr>\n",
       "    <tr>\n",
       "      <th>2</th>\n",
       "      <td>basketball_pdf.pdf ~ 2</td>\n",
       "      <td>TheEconomicSlamDunk\\nBasketball'seconomicimpac...</td>\n",
       "      <td>The Economic Slam Dunk\\nBasketball's economic ...</td>\n",
       "    </tr>\n",
       "    <tr>\n",
       "      <th>3</th>\n",
       "      <td>basketball_pdf.pdf ~ 3</td>\n",
       "      <td>UrbanRenaissanceThroughBasketball\\nThesport'si...</td>\n",
       "      <td>Urban Renaissance Through Basketball\\nThe spor...</td>\n",
       "    </tr>\n",
       "  </tbody>\n",
       "</table>\n",
       "</div>"
      ],
      "text/plain": [
       "                   PDF_ID                                          pypdf_txt  \\\n",
       "0  basketball_pdf.pdf ~ 0  TheGlobal Game: Basketball'sUnifyingPower inth...   \n",
       "1  basketball_pdf.pdf ~ 1  FromPeachBasketstoGlobalPhenomenon\\nThestorybe...   \n",
       "2  basketball_pdf.pdf ~ 2  TheEconomicSlamDunk\\nBasketball'seconomicimpac...   \n",
       "3  basketball_pdf.pdf ~ 3  UrbanRenaissanceThroughBasketball\\nThesport'si...   \n",
       "\n",
       "                                         pymupdf_txt  \n",
       "0  The Global Game: Basketball's Unifying\\nPower ...  \n",
       "1  From Peach Baskets to Global Phenomenon\\nThe s...  \n",
       "2  The Economic Slam Dunk\\nBasketball's economic ...  \n",
       "3  Urban Renaissance Through Basketball\\nThe spor...  "
      ]
     },
     "execution_count": 76,
     "metadata": {},
     "output_type": "execute_result"
    }
   ],
   "source": [
    "pdf_df"
   ]
  },
  {
   "cell_type": "code",
   "execution_count": 83,
   "id": "b84b20f2",
   "metadata": {},
   "outputs": [],
   "source": [
    "pdfminersix_dict = pdfminersix_txt_extraction(PDF_FILES_PATH / 'basketball_pdf.pdf')\n",
    "#pdf_df['PDF_ID'] = list(pdfminersix_dict.keys())\n",
    "pdf_df['pdfminersix_text'] = list(pdfminersix_dict.values())"
   ]
  },
  {
   "cell_type": "code",
   "execution_count": 85,
   "id": "e5f6211b",
   "metadata": {},
   "outputs": [
    {
     "data": {
      "text/html": [
       "<div>\n",
       "<style scoped>\n",
       "    .dataframe tbody tr th:only-of-type {\n",
       "        vertical-align: middle;\n",
       "    }\n",
       "\n",
       "    .dataframe tbody tr th {\n",
       "        vertical-align: top;\n",
       "    }\n",
       "\n",
       "    .dataframe thead th {\n",
       "        text-align: right;\n",
       "    }\n",
       "</style>\n",
       "<table border=\"1\" class=\"dataframe\">\n",
       "  <thead>\n",
       "    <tr style=\"text-align: right;\">\n",
       "      <th></th>\n",
       "      <th>PDF_ID</th>\n",
       "      <th>pypdf_txt</th>\n",
       "      <th>pymupdf_txt</th>\n",
       "      <th>pdfminersix_text</th>\n",
       "    </tr>\n",
       "  </thead>\n",
       "  <tbody>\n",
       "    <tr>\n",
       "      <th>0</th>\n",
       "      <td>basketball_pdf.pdf ~ 0</td>\n",
       "      <td>TheGlobal Game: Basketball'sUnifyingPower inth...</td>\n",
       "      <td>The Global Game: Basketball's Unifying\\nPower ...</td>\n",
       "      <td>The Global Game: Basketball's Unifying\\nPower ...</td>\n",
       "    </tr>\n",
       "    <tr>\n",
       "      <th>1</th>\n",
       "      <td>basketball_pdf.pdf ~ 1</td>\n",
       "      <td>FromPeachBasketstoGlobalPhenomenon\\nThestorybe...</td>\n",
       "      <td>From Peach Baskets to Global Phenomenon\\nThe s...</td>\n",
       "      <td>From Peach Baskets to Global Phenomenon\\n\\nThe...</td>\n",
       "    </tr>\n",
       "    <tr>\n",
       "      <th>2</th>\n",
       "      <td>basketball_pdf.pdf ~ 2</td>\n",
       "      <td>TheEconomicSlamDunk\\nBasketball'seconomicimpac...</td>\n",
       "      <td>The Economic Slam Dunk\\nBasketball's economic ...</td>\n",
       "      <td>The Economic Slam Dunk\\n\\nBasketball's economi...</td>\n",
       "    </tr>\n",
       "    <tr>\n",
       "      <th>3</th>\n",
       "      <td>basketball_pdf.pdf ~ 3</td>\n",
       "      <td>UrbanRenaissanceThroughBasketball\\nThesport'si...</td>\n",
       "      <td>Urban Renaissance Through Basketball\\nThe spor...</td>\n",
       "      <td>Urban Renaissance Through Basketball\\n\\nThe sp...</td>\n",
       "    </tr>\n",
       "  </tbody>\n",
       "</table>\n",
       "</div>"
      ],
      "text/plain": [
       "                   PDF_ID                                          pypdf_txt  \\\n",
       "0  basketball_pdf.pdf ~ 0  TheGlobal Game: Basketball'sUnifyingPower inth...   \n",
       "1  basketball_pdf.pdf ~ 1  FromPeachBasketstoGlobalPhenomenon\\nThestorybe...   \n",
       "2  basketball_pdf.pdf ~ 2  TheEconomicSlamDunk\\nBasketball'seconomicimpac...   \n",
       "3  basketball_pdf.pdf ~ 3  UrbanRenaissanceThroughBasketball\\nThesport'si...   \n",
       "\n",
       "                                         pymupdf_txt  \\\n",
       "0  The Global Game: Basketball's Unifying\\nPower ...   \n",
       "1  From Peach Baskets to Global Phenomenon\\nThe s...   \n",
       "2  The Economic Slam Dunk\\nBasketball's economic ...   \n",
       "3  Urban Renaissance Through Basketball\\nThe spor...   \n",
       "\n",
       "                                    pdfminersix_text  \n",
       "0  The Global Game: Basketball's Unifying\\nPower ...  \n",
       "1  From Peach Baskets to Global Phenomenon\\n\\nThe...  \n",
       "2  The Economic Slam Dunk\\n\\nBasketball's economi...  \n",
       "3  Urban Renaissance Through Basketball\\n\\nThe sp...  "
      ]
     },
     "execution_count": 85,
     "metadata": {},
     "output_type": "execute_result"
    }
   ],
   "source": [
    "pdf_df"
   ]
  },
  {
   "cell_type": "code",
   "execution_count": 2,
   "id": "d0db18b6",
   "metadata": {},
   "outputs": [],
   "source": [
    "from Levenshtein import distance"
   ]
  },
  {
   "cell_type": "code",
   "execution_count": 3,
   "id": "1fcc96e4",
   "metadata": {},
   "outputs": [],
   "source": [
    "def metrics(pypdf_dict: dict, pymupdf_dict: dict, pdfminersix_dict: dict):\n",
    "    \n",
    "    pass"
   ]
  },
  {
   "cell_type": "code",
   "execution_count": 4,
   "id": "2007a0ff",
   "metadata": {},
   "outputs": [
    {
     "name": "stdout",
     "output_type": "stream",
     "text": [
      "3\n"
     ]
    }
   ],
   "source": [
    "str1 = \"kitten\"\n",
    "str2 = \"sitting\"\n",
    "\n",
    "distance = distance(str1, str2)\n",
    "print(distance)  # Output: 3"
   ]
  },
  {
   "cell_type": "code",
   "execution_count": null,
   "id": "538c2c04",
   "metadata": {},
   "outputs": [],
   "source": []
  }
 ],
 "metadata": {
  "kernelspec": {
   "display_name": "Python 3 (ipykernel)",
   "language": "python",
   "name": "python3"
  },
  "language_info": {
   "codemirror_mode": {
    "name": "ipython",
    "version": 3
   },
   "file_extension": ".py",
   "mimetype": "text/x-python",
   "name": "python",
   "nbconvert_exporter": "python",
   "pygments_lexer": "ipython3",
   "version": "3.13.0"
  }
 },
 "nbformat": 4,
 "nbformat_minor": 5
}
