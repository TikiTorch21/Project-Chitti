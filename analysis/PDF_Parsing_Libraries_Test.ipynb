{
 "cells": [
  {
   "cell_type": "markdown",
   "id": "3712f19c-7f91-49e7-9904-8d99c30662a9",
   "metadata": {},
   "source": [
    "# PDF Parsing Libraries"
   ]
  },
  {
   "cell_type": "code",
   "execution_count": 18,
   "id": "c28c67a9-4941-44d0-b3b5-736ba9a25606",
   "metadata": {},
   "outputs": [],
   "source": [
    "from thefuzz import fuzz\n",
    "from PyPDF2 import PdfReader\n",
    "import pymupdf"
   ]
  },
  {
   "cell_type": "markdown",
   "id": "f9aa1ef6-eb02-4bb7-a036-cf6b93ba0699",
   "metadata": {},
   "source": [
    "## PyPDF2"
   ]
  },
  {
   "cell_type": "code",
   "execution_count": 17,
   "id": "eec4ec45-bbde-4977-89ec-c40a20f1510a",
   "metadata": {},
   "outputs": [
    {
     "data": {
      "text/plain": [
       "\u001b[0;31mInit signature:\u001b[0m\n",
       "\u001b[0mPdfReader\u001b[0m\u001b[0;34m(\u001b[0m\u001b[0;34m\u001b[0m\n",
       "\u001b[0;34m\u001b[0m    \u001b[0mstream\u001b[0m\u001b[0;34m:\u001b[0m \u001b[0mUnion\u001b[0m\u001b[0;34m[\u001b[0m\u001b[0mstr\u001b[0m\u001b[0;34m,\u001b[0m \u001b[0mIO\u001b[0m\u001b[0;34m,\u001b[0m \u001b[0mpathlib\u001b[0m\u001b[0;34m.\u001b[0m\u001b[0m_local\u001b[0m\u001b[0;34m.\u001b[0m\u001b[0mPath\u001b[0m\u001b[0;34m]\u001b[0m\u001b[0;34m,\u001b[0m\u001b[0;34m\u001b[0m\n",
       "\u001b[0;34m\u001b[0m    \u001b[0mstrict\u001b[0m\u001b[0;34m:\u001b[0m \u001b[0mbool\u001b[0m \u001b[0;34m=\u001b[0m \u001b[0;32mFalse\u001b[0m\u001b[0;34m,\u001b[0m\u001b[0;34m\u001b[0m\n",
       "\u001b[0;34m\u001b[0m    \u001b[0mpassword\u001b[0m\u001b[0;34m:\u001b[0m \u001b[0mUnion\u001b[0m\u001b[0;34m[\u001b[0m\u001b[0mNoneType\u001b[0m\u001b[0;34m,\u001b[0m \u001b[0mstr\u001b[0m\u001b[0;34m,\u001b[0m \u001b[0mbytes\u001b[0m\u001b[0;34m]\u001b[0m \u001b[0;34m=\u001b[0m \u001b[0;32mNone\u001b[0m\u001b[0;34m,\u001b[0m\u001b[0;34m\u001b[0m\n",
       "\u001b[0;34m\u001b[0m\u001b[0;34m)\u001b[0m \u001b[0;34m->\u001b[0m \u001b[0;32mNone\u001b[0m\u001b[0;34m\u001b[0m\u001b[0;34m\u001b[0m\u001b[0m\n",
       "\u001b[0;31mDocstring:\u001b[0m     \n",
       "Initialize a PdfReader object.\n",
       "\n",
       "This operation can take some time, as the PDF stream's cross-reference\n",
       "tables are read into memory.\n",
       "\n",
       ":param stream: A File object or an object that supports the standard read\n",
       "    and seek methods similar to a File object. Could also be a\n",
       "    string representing a path to a PDF file.\n",
       ":param bool strict: Determines whether user should be warned of all\n",
       "    problems and also causes some correctable problems to be fatal.\n",
       "    Defaults to ``False``.\n",
       ":param None/str/bytes password: Decrypt PDF file at initialization. If the\n",
       "    password is None, the file will not be decrypted.\n",
       "    Defaults to ``None``\n",
       "\u001b[0;31mFile:\u001b[0m           /opt/anaconda3/envs/project_chitti/lib/python3.13/site-packages/PyPDF2/_reader.py\n",
       "\u001b[0;31mType:\u001b[0m           type\n",
       "\u001b[0;31mSubclasses:\u001b[0m     PdfFileReader"
      ]
     },
     "metadata": {},
     "output_type": "display_data"
    }
   ],
   "source": [
    "PdfReader?"
   ]
  },
  {
   "cell_type": "code",
   "execution_count": 15,
   "id": "8c1a0752-ac82-4ef5-bd68-644a8636ed8d",
   "metadata": {},
   "outputs": [
    {
     "name": "stdout",
     "output_type": "stream",
     "text": [
      "Hi,\n",
      "my\n",
      "name\n",
      "is\n",
      "Prateek.\n",
      "This\n",
      "is\n",
      "PDF\n",
      "1\n",
      "that\n",
      "will\n",
      "be\n",
      "my\n",
      "initial\n",
      "test\n",
      "that\n",
      "the\n",
      "first\n",
      "Python\n",
      "Library\n",
      "will\n",
      "extract.\n",
      "Hope\n",
      "this\n",
      "works.\n",
      "The\n",
      "point\n",
      "of\n",
      "this\n",
      "test\n",
      "is\n",
      "to\n",
      "see\n",
      "what\n",
      "Python\n",
      "PDF\n",
      "Parsing\n",
      "library\n",
      "will\n",
      "for\n",
      "our\n",
      "use\n",
      "case.\n",
      "That’s\n",
      "it.\n"
     ]
    }
   ],
   "source": [
    "with open('PDF1.pdf') as file:\n",
    "    reader = PdfReader(\"PDF1.pdf\")\n",
    "    page = reader.pages[0]\n",
    "    print(page.extract_text())"
   ]
  },
  {
   "attachments": {},
   "cell_type": "markdown",
   "id": "1b4add9e-e505-4f55-bb26-0503af79bcf9",
   "metadata": {},
   "source": [
    "### Observations:\n",
    "1. By default, each word occupies it's own line. "
   ]
  },
  {
   "cell_type": "markdown",
   "id": "e4f7afe0-22b2-46c1-80e5-5142edc7b695",
   "metadata": {},
   "source": [
    "---"
   ]
  },
  {
   "cell_type": "code",
   "execution_count": null,
   "id": "e299d8cc-2189-4851-8303-ab16f738dad4",
   "metadata": {},
   "outputs": [],
   "source": [
    "doc = pymupdf.open(\"PDF1.pdf\")"
   ]
  }
 ],
 "metadata": {
  "kernelspec": {
   "display_name": "Python 3 (ipykernel)",
   "language": "python",
   "name": "python3"
  },
  "language_info": {
   "codemirror_mode": {
    "name": "ipython",
    "version": 3
   },
   "file_extension": ".py",
   "mimetype": "text/x-python",
   "name": "python",
   "nbconvert_exporter": "python",
   "pygments_lexer": "ipython3",
   "version": "3.13.0"
  }
 },
 "nbformat": 4,
 "nbformat_minor": 5
}
